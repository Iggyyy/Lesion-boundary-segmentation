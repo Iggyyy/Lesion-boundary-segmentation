{
 "cells": [
  {
   "cell_type": "code",
   "execution_count": 1,
   "source": [
    "import pandas as pd\r\n",
    "import numpy as np\r\n",
    "import matplotlib.pyplot as plt\r\n",
    "import json"
   ],
   "outputs": [],
   "metadata": {}
  },
  {
   "cell_type": "code",
   "execution_count": 2,
   "source": [
    "df = pd.read_csv('runs.csv')\r\n",
    "df.head(2)"
   ],
   "outputs": [
    {
     "output_type": "execute_result",
     "data": {
      "text/html": [
       "<div>\n",
       "<style scoped>\n",
       "    .dataframe tbody tr th:only-of-type {\n",
       "        vertical-align: middle;\n",
       "    }\n",
       "\n",
       "    .dataframe tbody tr th {\n",
       "        vertical-align: top;\n",
       "    }\n",
       "\n",
       "    .dataframe thead th {\n",
       "        text-align: right;\n",
       "    }\n",
       "</style>\n",
       "<table border=\"1\" class=\"dataframe\">\n",
       "  <thead>\n",
       "    <tr style=\"text-align: right;\">\n",
       "      <th></th>\n",
       "      <th>Run ID</th>\n",
       "      <th>Name</th>\n",
       "      <th>acc</th>\n",
       "      <th>loss</th>\n",
       "      <th>val_acc</th>\n",
       "      <th>val_loss</th>\n",
       "      <th>DATA_AUGUMENTATION</th>\n",
       "      <th>Saved Model Name</th>\n",
       "      <th>augumentation</th>\n",
       "      <th>per_channel_normalization</th>\n",
       "      <th>...</th>\n",
       "      <th>histogram_equalization</th>\n",
       "      <th>mean_per_channel</th>\n",
       "      <th>Test performance</th>\n",
       "      <th>Unnamed: 15</th>\n",
       "      <th>Unnamed: 16</th>\n",
       "      <th>Unnamed: 17</th>\n",
       "      <th>Unnamed: 18</th>\n",
       "      <th>Unnamed: 19</th>\n",
       "      <th>Unnamed: 20</th>\n",
       "      <th>Unnamed: 21</th>\n",
       "    </tr>\n",
       "  </thead>\n",
       "  <tbody>\n",
       "    <tr>\n",
       "      <th>0</th>\n",
       "      <td>968240f346854dd6a92ab834791f9040</td>\n",
       "      <td>BS + AUG + CC(5)</td>\n",
       "      <td>0.939332</td>\n",
       "      <td>0.143100</td>\n",
       "      <td>0.950955</td>\n",
       "      <td>0.123547</td>\n",
       "      <td>True</td>\n",
       "      <td>src/models/UNet_model_256x256_14092021-193014.h5</td>\n",
       "      <td>True</td>\n",
       "      <td>False</td>\n",
       "      <td>...</td>\n",
       "      <td>False</td>\n",
       "      <td>NaN</td>\n",
       "      <td>[('loss', 0.1378202885389328), ('acc', 0.94506...</td>\n",
       "      <td>NaN</td>\n",
       "      <td>NaN</td>\n",
       "      <td>NaN</td>\n",
       "      <td>NaN</td>\n",
       "      <td>NaN</td>\n",
       "      <td>NaN</td>\n",
       "      <td>NaN</td>\n",
       "    </tr>\n",
       "    <tr>\n",
       "      <th>1</th>\n",
       "      <td>8da0558405d1416b8f1e20e7e8b474ab</td>\n",
       "      <td>BS + AUG + HEQ</td>\n",
       "      <td>0.937776</td>\n",
       "      <td>0.147966</td>\n",
       "      <td>0.955565</td>\n",
       "      <td>0.111283</td>\n",
       "      <td>True</td>\n",
       "      <td>src/models/UNet_model_256x256_14092021-184239.h5</td>\n",
       "      <td>True</td>\n",
       "      <td>False</td>\n",
       "      <td>...</td>\n",
       "      <td>True</td>\n",
       "      <td>NaN</td>\n",
       "      <td>[('loss', 0.12748126685619354), ('acc', 0.9498...</td>\n",
       "      <td>NaN</td>\n",
       "      <td>NaN</td>\n",
       "      <td>NaN</td>\n",
       "      <td>NaN</td>\n",
       "      <td>NaN</td>\n",
       "      <td>NaN</td>\n",
       "      <td>NaN</td>\n",
       "    </tr>\n",
       "  </tbody>\n",
       "</table>\n",
       "<p>2 rows × 22 columns</p>\n",
       "</div>"
      ],
      "text/plain": [
       "                             Run ID              Name       acc      loss  \\\n",
       "0  968240f346854dd6a92ab834791f9040  BS + AUG + CC(5)  0.939332  0.143100   \n",
       "1  8da0558405d1416b8f1e20e7e8b474ab    BS + AUG + HEQ  0.937776  0.147966   \n",
       "\n",
       "    val_acc  val_loss DATA_AUGUMENTATION  \\\n",
       "0  0.950955  0.123547               True   \n",
       "1  0.955565  0.111283               True   \n",
       "\n",
       "                                   Saved Model Name augumentation  \\\n",
       "0  src/models/UNet_model_256x256_14092021-193014.h5          True   \n",
       "1  src/models/UNet_model_256x256_14092021-184239.h5          True   \n",
       "\n",
       "  per_channel_normalization  ... histogram_equalization mean_per_channel  \\\n",
       "0                     False  ...                  False              NaN   \n",
       "1                     False  ...                   True              NaN   \n",
       "\n",
       "                                    Test performance  Unnamed: 15 Unnamed: 16  \\\n",
       "0  [('loss', 0.1378202885389328), ('acc', 0.94506...          NaN         NaN   \n",
       "1  [('loss', 0.12748126685619354), ('acc', 0.9498...          NaN         NaN   \n",
       "\n",
       "   Unnamed: 17  Unnamed: 18  Unnamed: 19  Unnamed: 20  Unnamed: 21  \n",
       "0          NaN          NaN          NaN          NaN          NaN  \n",
       "1          NaN          NaN          NaN          NaN          NaN  \n",
       "\n",
       "[2 rows x 22 columns]"
      ]
     },
     "metadata": {},
     "execution_count": 2
    }
   ],
   "metadata": {}
  },
  {
   "cell_type": "code",
   "execution_count": 3,
   "source": [
    "\r\n",
    "raws  = df['Test performance'][0:13]\r\n",
    "print(raws)\r\n",
    "import ast \r\n",
    "\r\n",
    "test_accuracies = list()\r\n",
    "for i in range(len(raws)):\r\n",
    "    x = ast.literal_eval(raws[i])\r\n",
    "    test_accuracies.append(x[1][1])\r\n",
    "test_accuracies\r\n"
   ],
   "outputs": [
    {
     "output_type": "stream",
     "name": "stdout",
     "text": [
      "0     [('loss', 0.1378202885389328), ('acc', 0.94506...\n",
      "1     [('loss', 0.12748126685619354), ('acc', 0.9498...\n",
      "2     [('loss', 0.13381905853748322), ('acc', 0.9476...\n",
      "3     [('loss', 0.12721456587314606), ('acc', 0.9501...\n",
      "4     [('loss', 0.1474209427833557), ('acc', 0.94489...\n",
      "5     [('loss', 0.17507420480251312), ('acc', 0.9324...\n",
      "6     [('loss', 0.18018466234207153), ('acc', 0.9284...\n",
      "7     [('loss', 0.12962566316127777), ('acc', 0.9488...\n",
      "8     [('loss', 0.15125109255313873), ('acc', 0.9398...\n",
      "9     [('loss', 0.12954506278038025), ('acc', 0.9487...\n",
      "10    [('loss', 0.12854617834091187), ('acc', 0.9493...\n",
      "11    [('loss', 0.29785585403442383), ('acc', 0.8972...\n",
      "12    [('loss', 0.12309819459915161), ('acc', 0.9515...\n",
      "Name: Test performance, dtype: object\n"
     ]
    },
    {
     "output_type": "execute_result",
     "data": {
      "text/plain": [
       "[0.9450674057006836,\n",
       " 0.9498485922813416,\n",
       " 0.9476662278175354,\n",
       " 0.950149655342102,\n",
       " 0.9448909759521484,\n",
       " 0.9324745535850525,\n",
       " 0.9284594655036926,\n",
       " 0.9488648772239685,\n",
       " 0.9398307800292969,\n",
       " 0.948745846748352,\n",
       " 0.9493865966796875,\n",
       " 0.8972094655036926,\n",
       " 0.9515164494514465]"
      ]
     },
     "metadata": {},
     "execution_count": 3
    }
   ],
   "metadata": {}
  },
  {
   "cell_type": "code",
   "execution_count": 4,
   "source": [
    "len(df.loc[0:12])"
   ],
   "outputs": [
    {
     "output_type": "execute_result",
     "data": {
      "text/plain": [
       "13"
      ]
     },
     "metadata": {},
     "execution_count": 4
    }
   ],
   "metadata": {}
  },
  {
   "cell_type": "code",
   "execution_count": 5,
   "source": [
    "df = df.loc[0:12]\r\n",
    "df['test_acc'] = test_accuracies"
   ],
   "outputs": [],
   "metadata": {}
  },
  {
   "cell_type": "code",
   "execution_count": 6,
   "source": [
    "\r\n",
    "raws  = df['Test performance'][0:13]\r\n",
    "print(raws)\r\n",
    "import ast \r\n",
    "\r\n",
    "test_precision = list()\r\n",
    "for i in range(len(raws)):\r\n",
    "    x = ast.literal_eval(raws[i])\r\n",
    "    test_precision.append(x[2][1])\r\n",
    "test_precision"
   ],
   "outputs": [
    {
     "output_type": "stream",
     "name": "stdout",
     "text": [
      "0     [('loss', 0.1378202885389328), ('acc', 0.94506...\n",
      "1     [('loss', 0.12748126685619354), ('acc', 0.9498...\n",
      "2     [('loss', 0.13381905853748322), ('acc', 0.9476...\n",
      "3     [('loss', 0.12721456587314606), ('acc', 0.9501...\n",
      "4     [('loss', 0.1474209427833557), ('acc', 0.94489...\n",
      "5     [('loss', 0.17507420480251312), ('acc', 0.9324...\n",
      "6     [('loss', 0.18018466234207153), ('acc', 0.9284...\n",
      "7     [('loss', 0.12962566316127777), ('acc', 0.9488...\n",
      "8     [('loss', 0.15125109255313873), ('acc', 0.9398...\n",
      "9     [('loss', 0.12954506278038025), ('acc', 0.9487...\n",
      "10    [('loss', 0.12854617834091187), ('acc', 0.9493...\n",
      "11    [('loss', 0.29785585403442383), ('acc', 0.8972...\n",
      "12    [('loss', 0.12309819459915161), ('acc', 0.9515...\n",
      "Name: Test performance, dtype: object\n"
     ]
    },
    {
     "output_type": "execute_result",
     "data": {
      "text/plain": [
       "[0.8803917169570923,\n",
       " 0.9002598524093628,\n",
       " 0.9277320504188538,\n",
       " 0.8971036672592163,\n",
       " 0.8941459655761719,\n",
       " 0.870057225227356,\n",
       " 0.9088621735572815,\n",
       " 0.8990259170532227,\n",
       " 0.8788446187973022,\n",
       " 0.9031609892845154,\n",
       " 0.9175369143486023,\n",
       " 0.8895692229270935,\n",
       " 0.9099620580673218]"
      ]
     },
     "metadata": {},
     "execution_count": 6
    }
   ],
   "metadata": {}
  },
  {
   "cell_type": "code",
   "execution_count": 7,
   "source": [
    "df['test_prec'] = test_precision"
   ],
   "outputs": [],
   "metadata": {}
  },
  {
   "cell_type": "code",
   "execution_count": 8,
   "source": [
    "df1 = df[['Name', 'acc', 'val_acc', 'test_acc', 'test_prec', 'Saved Model Name']]\r\n",
    "df1.sort_values(['test_acc', 'test_prec'], ascending=False)"
   ],
   "outputs": [
    {
     "output_type": "execute_result",
     "data": {
      "text/html": [
       "<div>\n",
       "<style scoped>\n",
       "    .dataframe tbody tr th:only-of-type {\n",
       "        vertical-align: middle;\n",
       "    }\n",
       "\n",
       "    .dataframe tbody tr th {\n",
       "        vertical-align: top;\n",
       "    }\n",
       "\n",
       "    .dataframe thead th {\n",
       "        text-align: right;\n",
       "    }\n",
       "</style>\n",
       "<table border=\"1\" class=\"dataframe\">\n",
       "  <thead>\n",
       "    <tr style=\"text-align: right;\">\n",
       "      <th></th>\n",
       "      <th>Name</th>\n",
       "      <th>acc</th>\n",
       "      <th>val_acc</th>\n",
       "      <th>test_acc</th>\n",
       "      <th>test_prec</th>\n",
       "      <th>Saved Model Name</th>\n",
       "    </tr>\n",
       "  </thead>\n",
       "  <tbody>\n",
       "    <tr>\n",
       "      <th>12</th>\n",
       "      <td>Baseline</td>\n",
       "      <td>0.935714</td>\n",
       "      <td>0.953622</td>\n",
       "      <td>0.951516</td>\n",
       "      <td>0.909962</td>\n",
       "      <td>src/models/UNet_model_256x256_14092021-155128.h5</td>\n",
       "    </tr>\n",
       "    <tr>\n",
       "      <th>3</th>\n",
       "      <td>BS + AUG + HEQ + PCN</td>\n",
       "      <td>0.940812</td>\n",
       "      <td>0.953636</td>\n",
       "      <td>0.950150</td>\n",
       "      <td>0.897104</td>\n",
       "      <td>src/models/UNet_model_256x256_14092021-181638.h5</td>\n",
       "    </tr>\n",
       "    <tr>\n",
       "      <th>1</th>\n",
       "      <td>BS + AUG + HEQ</td>\n",
       "      <td>0.937776</td>\n",
       "      <td>0.955565</td>\n",
       "      <td>0.949849</td>\n",
       "      <td>0.900260</td>\n",
       "      <td>src/models/UNet_model_256x256_14092021-184239.h5</td>\n",
       "    </tr>\n",
       "    <tr>\n",
       "      <th>10</th>\n",
       "      <td>BS + HEQ</td>\n",
       "      <td>0.938500</td>\n",
       "      <td>0.952377</td>\n",
       "      <td>0.949387</td>\n",
       "      <td>0.917537</td>\n",
       "      <td>src/models/UNet_model_256x256_14092021-161150.h5</td>\n",
       "    </tr>\n",
       "    <tr>\n",
       "      <th>7</th>\n",
       "      <td>BS + GAUS</td>\n",
       "      <td>0.936023</td>\n",
       "      <td>0.953168</td>\n",
       "      <td>0.948865</td>\n",
       "      <td>0.899026</td>\n",
       "      <td>src/models/UNet_model_256x256_14092021-171213.h5</td>\n",
       "    </tr>\n",
       "    <tr>\n",
       "      <th>9</th>\n",
       "      <td>BS + AUG</td>\n",
       "      <td>0.936283</td>\n",
       "      <td>0.953418</td>\n",
       "      <td>0.948746</td>\n",
       "      <td>0.903161</td>\n",
       "      <td>src/models/UNet_model_256x256_14092021-162556.h5</td>\n",
       "    </tr>\n",
       "    <tr>\n",
       "      <th>2</th>\n",
       "      <td>BS + AUG + HEQ</td>\n",
       "      <td>0.935887</td>\n",
       "      <td>0.952842</td>\n",
       "      <td>0.947666</td>\n",
       "      <td>0.927732</td>\n",
       "      <td>src/models/UNet_model_256x256_14092021-182610.h5</td>\n",
       "    </tr>\n",
       "    <tr>\n",
       "      <th>0</th>\n",
       "      <td>BS + AUG + CC(5)</td>\n",
       "      <td>0.939332</td>\n",
       "      <td>0.950955</td>\n",
       "      <td>0.945067</td>\n",
       "      <td>0.880392</td>\n",
       "      <td>src/models/UNet_model_256x256_14092021-193014.h5</td>\n",
       "    </tr>\n",
       "    <tr>\n",
       "      <th>4</th>\n",
       "      <td>BS + AUG + PCN</td>\n",
       "      <td>0.932011</td>\n",
       "      <td>0.952815</td>\n",
       "      <td>0.944891</td>\n",
       "      <td>0.894146</td>\n",
       "      <td>src/models/UNet_model_256x256_14092021-180210.h5</td>\n",
       "    </tr>\n",
       "    <tr>\n",
       "      <th>8</th>\n",
       "      <td>BS + CC(5)</td>\n",
       "      <td>0.934409</td>\n",
       "      <td>0.944711</td>\n",
       "      <td>0.939831</td>\n",
       "      <td>0.878845</td>\n",
       "      <td>src/models/UNet_model_256x256_14092021-165746.h5</td>\n",
       "    </tr>\n",
       "    <tr>\n",
       "      <th>5</th>\n",
       "      <td>BS + GAUS + CC(5)</td>\n",
       "      <td>0.922706</td>\n",
       "      <td>0.936680</td>\n",
       "      <td>0.932475</td>\n",
       "      <td>0.870057</td>\n",
       "      <td>src/models/UNet_model_256x256_14092021-175213.h5</td>\n",
       "    </tr>\n",
       "    <tr>\n",
       "      <th>6</th>\n",
       "      <td>BS + HEQ + CC(5)</td>\n",
       "      <td>0.914175</td>\n",
       "      <td>0.932667</td>\n",
       "      <td>0.928459</td>\n",
       "      <td>0.908862</td>\n",
       "      <td>src/models/UNet_model_256x256_14092021-172939.h5</td>\n",
       "    </tr>\n",
       "    <tr>\n",
       "      <th>11</th>\n",
       "      <td>BS + PCN</td>\n",
       "      <td>0.855035</td>\n",
       "      <td>0.901869</td>\n",
       "      <td>0.897209</td>\n",
       "      <td>0.889569</td>\n",
       "      <td>src/models/UNet_model_256x256_14092021-155824.h5</td>\n",
       "    </tr>\n",
       "  </tbody>\n",
       "</table>\n",
       "</div>"
      ],
      "text/plain": [
       "                    Name       acc   val_acc  test_acc  test_prec  \\\n",
       "12              Baseline  0.935714  0.953622  0.951516   0.909962   \n",
       "3   BS + AUG + HEQ + PCN  0.940812  0.953636  0.950150   0.897104   \n",
       "1         BS + AUG + HEQ  0.937776  0.955565  0.949849   0.900260   \n",
       "10              BS + HEQ  0.938500  0.952377  0.949387   0.917537   \n",
       "7              BS + GAUS  0.936023  0.953168  0.948865   0.899026   \n",
       "9               BS + AUG  0.936283  0.953418  0.948746   0.903161   \n",
       "2         BS + AUG + HEQ  0.935887  0.952842  0.947666   0.927732   \n",
       "0       BS + AUG + CC(5)  0.939332  0.950955  0.945067   0.880392   \n",
       "4         BS + AUG + PCN  0.932011  0.952815  0.944891   0.894146   \n",
       "8             BS + CC(5)  0.934409  0.944711  0.939831   0.878845   \n",
       "5      BS + GAUS + CC(5)  0.922706  0.936680  0.932475   0.870057   \n",
       "6       BS + HEQ + CC(5)  0.914175  0.932667  0.928459   0.908862   \n",
       "11              BS + PCN  0.855035  0.901869  0.897209   0.889569   \n",
       "\n",
       "                                    Saved Model Name  \n",
       "12  src/models/UNet_model_256x256_14092021-155128.h5  \n",
       "3   src/models/UNet_model_256x256_14092021-181638.h5  \n",
       "1   src/models/UNet_model_256x256_14092021-184239.h5  \n",
       "10  src/models/UNet_model_256x256_14092021-161150.h5  \n",
       "7   src/models/UNet_model_256x256_14092021-171213.h5  \n",
       "9   src/models/UNet_model_256x256_14092021-162556.h5  \n",
       "2   src/models/UNet_model_256x256_14092021-182610.h5  \n",
       "0   src/models/UNet_model_256x256_14092021-193014.h5  \n",
       "4   src/models/UNet_model_256x256_14092021-180210.h5  \n",
       "8   src/models/UNet_model_256x256_14092021-165746.h5  \n",
       "5   src/models/UNet_model_256x256_14092021-175213.h5  \n",
       "6   src/models/UNet_model_256x256_14092021-172939.h5  \n",
       "11  src/models/UNet_model_256x256_14092021-155824.h5  "
      ]
     },
     "metadata": {},
     "execution_count": 8
    }
   ],
   "metadata": {}
  },
  {
   "cell_type": "code",
   "execution_count": 42,
   "source": [
    "import tensorflow as tf\r\n",
    "def jaccard_index(y_true, y_pred, smooth=0.0001):\r\n",
    "    with tf.device('/device:GPU:0'):\r\n",
    "        y_pred = tf.math.greater_equal(y_pred, 0.5)\r\n",
    "        y_true = tf.math.greater_equal(y_true, 0.5)\r\n",
    "\r\n",
    "        print(tf.reduce_sum(tf.cast(y_true, tf.int8)) )\r\n",
    "\r\n",
    "        intersection = tf.math.reduce_sum( tf.cast(tf.math.logical_and(y_pred, y_true), tf.int8))\r\n",
    "        union = tf.math.reduce_sum( tf.cast(tf.math.logical_or(y_pred, y_true), tf.int8))\r\n",
    "        print('intersection:', intersection,'union:', union)\r\n",
    "        jac_index = intersection /  union\r\n",
    "        \r\n",
    "    return jac_index"
   ],
   "outputs": [],
   "metadata": {}
  },
  {
   "cell_type": "code",
   "execution_count": 10,
   "source": [
    "a = tf.constant([1,1,0,1], tf.float16)\r\n",
    "b = tf.constant([1,1,1,1], tf.float16)\r\n",
    "\r\n",
    "jaccard_index(a,b)"
   ],
   "outputs": [
    {
     "output_type": "execute_result",
     "data": {
      "text/plain": [
       "<tf.Tensor: shape=(), dtype=float32, numpy=0.75>"
      ]
     },
     "metadata": {},
     "execution_count": 10
    }
   ],
   "metadata": {}
  },
  {
   "cell_type": "code",
   "execution_count": 11,
   "source": [
    "import train_gpu as train \r\n",
    "import cv2 \r\n",
    "\r\n",
    "jaccards = list()\r\n",
    "df1 = df1.sort_values(['Name'], ascending=True)\r\n",
    "for run in range(len(df1)):\r\n",
    "    row = df1.iloc[run]\r\n",
    "    print(row['Name'])\r\n",
    "\r\n",
    "    tr = train.Trainer(debug_mode=True)\r\n",
    "    for feature in ['BS', 'CC', 'GAUS', 'AUG', 'HEQ', 'PCN']:\r\n",
    "\r\n",
    "        if feature in row['Name']:\r\n",
    "            print(feature)\r\n",
    "\r\n",
    "            if feature == 'CC':\r\n",
    "                tr.preprocessing_parameters['connected_components'] = True\r\n",
    "            if feature == 'GAUS':\r\n",
    "                tr.preprocessing_parameters['gaussian_blur'] = True\r\n",
    "            if feature == 'AUG':\r\n",
    "                tr.preprocessing_parameters['augumentation'] = True\r\n",
    "            if feature == 'HEQ':\r\n",
    "                tr.preprocessing_parameters['histogram_equalization'] = True\r\n",
    "            if feature == 'PCN':\r\n",
    "                tr.preprocessing_parameters['per_channel_normalization'] = True\r\n",
    "\r\n",
    "\r\n",
    "\r\n",
    "    tr.load_data()\r\n",
    "    tr.build_model()\r\n",
    "    tr.model.load_weights(row['Saved Model Name'])\r\n",
    "    results = tr.model.predict(tr.data['test_images'])\r\n",
    "\r\n",
    "    jacc_sum = 0\r\n",
    "    for res,mask in zip(results, tr.data['test_masks']):\r\n",
    "        \r\n",
    "        d = mask > 0.5\r\n",
    "        r = res\r\n",
    "        t, r = cv2.threshold( np.array(r*255, dtype='uint8'), 0, 255, cv2.THRESH_OTSU)\r\n",
    "        r = r / 255\r\n",
    "        r = r > 0.5\r\n",
    "\r\n",
    "        r = r.flatten()\r\n",
    "        d = d.flatten()\r\n",
    "\r\n",
    "        inter = np.logical_and(d,r).sum()\r\n",
    "        union = np.logical_or(d,r).sum()\r\n",
    "\r\n",
    "\r\n",
    "\r\n",
    "        jacc_sum += inter / union \r\n",
    "\r\n",
    "    mean_jaccard_index = jacc_sum / len(results)\r\n",
    "    print(mean_jaccard_index)\r\n",
    "    jaccards.append(mean_jaccard_index)\r\n",
    "\r\n",
    "    break\r\n",
    "\r\n",
    "\r\n",
    "\r\n",
    "\r\n",
    "\r\n",
    "\r\n"
   ],
   "outputs": [
    {
     "output_type": "stream",
     "name": "stderr",
     "text": [
      "2021/09/15 12:34:51 WARNING mlflow.utils.autologging_utils: You are using an unsupported version of tensorflow. If you encounter errors during autologging, try upgrading / downgrading tensorflow to a supported version, or try upgrading MLflow.\n"
     ]
    },
    {
     "output_type": "stream",
     "name": "stdout",
     "text": [
      "BS + AUG\n",
      "BS\n",
      "AUG\n",
      "(2029, 256, 256, 1)\n",
      "Data loaded\n",
      "Applied normalization\n",
      "Data augumentation on\n",
      "Prep done\n",
      "Training samples: 2029, channel mean: 0.5810149085967636,\n",
      "Validation samples: 383, channel mean: 0.5863431984931646\n",
      "Model built.\n",
      "Model: \"model\"\n",
      "__________________________________________________________________________________________________\n",
      "Layer (type)                    Output Shape         Param #     Connected to                     \n",
      "==================================================================================================\n",
      "input_1 (InputLayer)            [(None, 256, 256, 1) 0                                            \n",
      "__________________________________________________________________________________________________\n",
      "conv2d (Conv2D)                 (None, 256, 256, 32) 320         input_1[0][0]                    \n",
      "__________________________________________________________________________________________________\n",
      "conv2d_1 (Conv2D)               (None, 256, 256, 32) 9248        conv2d[0][0]                     \n",
      "__________________________________________________________________________________________________\n",
      "max_pooling2d (MaxPooling2D)    (None, 128, 128, 32) 0           conv2d_1[0][0]                   \n",
      "__________________________________________________________________________________________________\n",
      "conv2d_2 (Conv2D)               (None, 128, 128, 64) 18496       max_pooling2d[0][0]              \n",
      "__________________________________________________________________________________________________\n",
      "conv2d_3 (Conv2D)               (None, 128, 128, 64) 36928       conv2d_2[0][0]                   \n",
      "__________________________________________________________________________________________________\n",
      "max_pooling2d_1 (MaxPooling2D)  (None, 64, 64, 64)   0           conv2d_3[0][0]                   \n",
      "__________________________________________________________________________________________________\n",
      "conv2d_4 (Conv2D)               (None, 64, 64, 128)  73856       max_pooling2d_1[0][0]            \n",
      "__________________________________________________________________________________________________\n",
      "conv2d_5 (Conv2D)               (None, 64, 64, 128)  147584      conv2d_4[0][0]                   \n",
      "__________________________________________________________________________________________________\n",
      "max_pooling2d_2 (MaxPooling2D)  (None, 32, 32, 128)  0           conv2d_5[0][0]                   \n",
      "__________________________________________________________________________________________________\n",
      "conv2d_6 (Conv2D)               (None, 32, 32, 256)  295168      max_pooling2d_2[0][0]            \n",
      "__________________________________________________________________________________________________\n",
      "conv2d_7 (Conv2D)               (None, 32, 32, 256)  590080      conv2d_6[0][0]                   \n",
      "__________________________________________________________________________________________________\n",
      "max_pooling2d_3 (MaxPooling2D)  (None, 16, 16, 256)  0           conv2d_7[0][0]                   \n",
      "__________________________________________________________________________________________________\n",
      "conv2d_8 (Conv2D)               (None, 16, 16, 512)  1180160     max_pooling2d_3[0][0]            \n",
      "__________________________________________________________________________________________________\n",
      "conv2d_9 (Conv2D)               (None, 16, 16, 512)  2359808     conv2d_8[0][0]                   \n",
      "__________________________________________________________________________________________________\n",
      "up_sampling2d (UpSampling2D)    (None, 32, 32, 512)  0           conv2d_9[0][0]                   \n",
      "__________________________________________________________________________________________________\n",
      "concatenate (Concatenate)       (None, 32, 32, 768)  0           up_sampling2d[0][0]              \n",
      "                                                                 conv2d_7[0][0]                   \n",
      "__________________________________________________________________________________________________\n",
      "conv2d_10 (Conv2D)              (None, 32, 32, 256)  1769728     concatenate[0][0]                \n",
      "__________________________________________________________________________________________________\n",
      "conv2d_11 (Conv2D)              (None, 32, 32, 256)  590080      conv2d_10[0][0]                  \n",
      "__________________________________________________________________________________________________\n",
      "up_sampling2d_1 (UpSampling2D)  (None, 64, 64, 256)  0           conv2d_11[0][0]                  \n",
      "__________________________________________________________________________________________________\n",
      "concatenate_1 (Concatenate)     (None, 64, 64, 384)  0           up_sampling2d_1[0][0]            \n",
      "                                                                 conv2d_5[0][0]                   \n",
      "__________________________________________________________________________________________________\n",
      "conv2d_12 (Conv2D)              (None, 64, 64, 128)  442496      concatenate_1[0][0]              \n",
      "__________________________________________________________________________________________________\n",
      "conv2d_13 (Conv2D)              (None, 64, 64, 128)  147584      conv2d_12[0][0]                  \n",
      "__________________________________________________________________________________________________\n",
      "up_sampling2d_2 (UpSampling2D)  (None, 128, 128, 128 0           conv2d_13[0][0]                  \n",
      "__________________________________________________________________________________________________\n",
      "concatenate_2 (Concatenate)     (None, 128, 128, 192 0           up_sampling2d_2[0][0]            \n",
      "                                                                 conv2d_3[0][0]                   \n",
      "__________________________________________________________________________________________________\n",
      "conv2d_14 (Conv2D)              (None, 128, 128, 64) 110656      concatenate_2[0][0]              \n",
      "__________________________________________________________________________________________________\n",
      "conv2d_15 (Conv2D)              (None, 128, 128, 64) 36928       conv2d_14[0][0]                  \n",
      "__________________________________________________________________________________________________\n",
      "up_sampling2d_3 (UpSampling2D)  (None, 256, 256, 64) 0           conv2d_15[0][0]                  \n",
      "__________________________________________________________________________________________________\n",
      "concatenate_3 (Concatenate)     (None, 256, 256, 96) 0           up_sampling2d_3[0][0]            \n",
      "                                                                 conv2d_1[0][0]                   \n",
      "__________________________________________________________________________________________________\n",
      "conv2d_16 (Conv2D)              (None, 256, 256, 32) 27680       concatenate_3[0][0]              \n",
      "__________________________________________________________________________________________________\n",
      "conv2d_17 (Conv2D)              (None, 256, 256, 32) 9248        conv2d_16[0][0]                  \n",
      "__________________________________________________________________________________________________\n",
      "conv2d_18 (Conv2D)              (None, 256, 256, 1)  33          conv2d_17[0][0]                  \n",
      "==================================================================================================\n",
      "Total params: 7,846,081\n",
      "Trainable params: 7,846,081\n",
      "Non-trainable params: 0\n",
      "__________________________________________________________________________________________________\n",
      "tf.Tensor(inf, shape=(), dtype=float32)\n"
     ]
    }
   ],
   "metadata": {}
  },
  {
   "cell_type": "code",
   "execution_count": null,
   "source": [
    "df1.iloc[0]['Name']"
   ],
   "outputs": [],
   "metadata": {}
  },
  {
   "cell_type": "code",
   "execution_count": 35,
   "source": [
    "def imshow(img):\r\n",
    "    import cv2\r\n",
    "    import IPython\r\n",
    "    _,ret = cv2.imencode('.jpg', img) \r\n",
    "    i = IPython.display.Image(data=ret)\r\n",
    "    IPython.display.display(i)\r\n",
    "imshow(results[3]*255)\r\n"
   ],
   "outputs": [
    {
     "output_type": "display_data",
     "data": {
      "image/png": "[encoded data removed]",
      "text/plain": [
       "<IPython.core.display.Image object>"
      ]
     },
     "metadata": {}
    }
   ],
   "metadata": {}
  },
  {
   "cell_type": "code",
   "execution_count": 36,
   "source": [
    "imshow(tr.data['test_masks'][3]*255)"
   ],
   "outputs": [
    {
     "output_type": "display_data",
     "data": {
      "image/png": "[encoded data removed]",
      "text/plain": [
       "<IPython.core.display.Image object>"
      ]
     },
     "metadata": {}
    }
   ],
   "metadata": {}
  },
  {
   "cell_type": "code",
   "execution_count": 43,
   "source": [
    "jaccard_index(tr.data['test_masks'][3], results[3])\r\n"
   ],
   "outputs": [
    {
     "output_type": "stream",
     "name": "stdout",
     "text": [
      "tf.Tensor(-39, shape=(), dtype=int8)\n",
      "intersection: tf.Tensor(91, shape=(), dtype=int8) union: tf.Tensor(-39, shape=(), dtype=int8)\n"
     ]
    },
    {
     "output_type": "execute_result",
     "data": {
      "text/plain": [
       "<tf.Tensor: shape=(), dtype=float32, numpy=-2.3333333>"
      ]
     },
     "metadata": {},
     "execution_count": 43
    }
   ],
   "metadata": {}
  },
  {
   "cell_type": "code",
   "execution_count": 96,
   "source": [
    "\r\n",
    "d = tr.data['test_masks'][3] > 0.5\r\n",
    "r = results[3]*255\r\n",
    "t, r = cv2.threshold( np.array(r, dtype='uint8'), 0, 255, cv2.THRESH_OTSU)\r\n",
    "r = r / 255\r\n",
    "r = r > 0.5\r\n",
    "\r\n",
    "r = r.flatten()\r\n",
    "d = d.flatten()\r\n",
    "\r\n",
    "inter = np.logical_and(d,r).sum()\r\n",
    "union = np.logical_or(d,r).sum()\r\n",
    "print(f'inter {inter}, union {union}, iou {inter/union}')"
   ],
   "outputs": [
    {
     "output_type": "stream",
     "name": "stdout",
     "text": [
      "inter 15233, union 18144, iou 0.8395612874779541\n"
     ]
    }
   ],
   "metadata": {}
  },
  {
   "cell_type": "code",
   "execution_count": 89,
   "source": [
    "r.flatten().sum()"
   ],
   "outputs": [
    {
     "output_type": "execute_result",
     "data": {
      "text/plain": [
       "15240"
      ]
     },
     "metadata": {},
     "execution_count": 89
    }
   ],
   "metadata": {}
  },
  {
   "cell_type": "code",
   "execution_count": 91,
   "source": [
    "d.flatten().sum()"
   ],
   "outputs": [
    {
     "output_type": "execute_result",
     "data": {
      "text/plain": [
       "18137"
      ]
     },
     "metadata": {},
     "execution_count": 91
    }
   ],
   "metadata": {}
  },
  {
   "cell_type": "code",
   "execution_count": 95,
   "source": [
    "np.logical_and(d.flatten(),r.flatten()).sum()"
   ],
   "outputs": [
    {
     "output_type": "execute_result",
     "data": {
      "text/plain": [
       "15233"
      ]
     },
     "metadata": {},
     "execution_count": 95
    }
   ],
   "metadata": {}
  },
  {
   "cell_type": "code",
   "execution_count": null,
   "source": [],
   "outputs": [],
   "metadata": {}
  }
 ],
 "metadata": {
  "orig_nbformat": 4,
  "language_info": {
   "name": "python",
   "version": "3.8.5",
   "mimetype": "text/x-python",
   "codemirror_mode": {
    "name": "ipython",
    "version": 3
   },
   "pygments_lexer": "ipython3",
   "nbconvert_exporter": "python",
   "file_extension": ".py"
  },
  "kernelspec": {
   "name": "python3",
   "display_name": "Python 3.8.5 64-bit ('torch_env': conda)"
  },
  "interpreter": {
   "hash": "4ae8a2da264ef2ff1b1fcc1491c8f0c7d00e17575b69dc2165f5c87ae05d5799"
  }
 },
 "nbformat": 4,
 "nbformat_minor": 2
}