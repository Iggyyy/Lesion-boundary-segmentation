{
 "cells": [
  {
   "cell_type": "code",
   "execution_count": 2,
   "source": [
    "import numpy as np\r\n",
    "import tensorflow as tf \r\n",
    "from tensorflow import keras\r\n",
    "from data_loader import DataLoader\r\n",
    "import random\r\n",
    "import matplotlib.pyplot as plt\r\n",
    "random.seed(1)\r\n",
    "np.random.seed(1)"
   ],
   "outputs": [],
   "metadata": {}
  },
  {
   "cell_type": "code",
   "execution_count": 3,
   "source": [
    "def split_train_test(images, masks, validation_split=0.8):\r\n",
    "    split_index = int(images.shape[0] * 0.8)\r\n",
    "    return images[0:split_index], masks[0:split_index], images[split_index:], masks[split_index:]\r\n",
    "\r\n",
    "def normalize(images, masks):\r\n",
    "    images = images / 255\r\n",
    "    masks = (masks > 0).astype(float)\r\n",
    "    return images, masks"
   ],
   "outputs": [],
   "metadata": {}
  },
  {
   "cell_type": "code",
   "execution_count": 4,
   "source": [
    "raw_images, raw_masks = DataLoader().get_dataset()\r\n",
    "norm_images, norm_masks = normalize(raw_images, raw_masks)\r\n",
    "\r\n",
    "train_img, train_msk, test_img, test_msk = split_train_test(norm_images, norm_masks)\r\n",
    "\r\n",
    "train_img.shape"
   ],
   "outputs": [
    {
     "output_type": "execute_result",
     "data": {
      "text/plain": [
       "(14, 512, 512, 1)"
      ]
     },
     "metadata": {},
     "execution_count": 4
    }
   ],
   "metadata": {}
  },
  {
   "cell_type": "code",
   "execution_count": 5,
   "source": [
    "valid_data = np.array( (test_img, test_msk) )\r\n",
    "valid_data.shape"
   ],
   "outputs": [
    {
     "output_type": "execute_result",
     "data": {
      "text/plain": [
       "(2, 4, 512, 512, 1)"
      ]
     },
     "metadata": {},
     "execution_count": 5
    }
   ],
   "metadata": {}
  },
  {
   "cell_type": "markdown",
   "source": [
    "## HYPERPARAMETERS"
   ],
   "metadata": {}
  },
  {
   "cell_type": "code",
   "execution_count": 6,
   "source": [
    "image_size = 512\r\n",
    "train_path = 'src/dataset_preview/train/'\r\n",
    "EPOCHS = 5\r\n",
    "BATCH_SIZE = 2\r\n",
    "\r\n"
   ],
   "outputs": [],
   "metadata": {}
  },
  {
   "cell_type": "markdown",
   "source": [
    "## Visualization "
   ],
   "metadata": {}
  },
  {
   "cell_type": "code",
   "execution_count": 7,
   "source": [
    "r = 1 #random.randint(0, len(train_img.shape) - 1)\r\n",
    "\r\n",
    "fig = plt.figure()\r\n",
    "fig.subplots_adjust(hspace=0.4, wspace=0.4)\r\n",
    "ax = fig.add_subplot(1,2,1)\r\n",
    "ax.imshow(train_img[r], cmap='gray')\r\n",
    "ax1 = fig.add_subplot(1,2,2)\r\n",
    "ax1.imshow(train_msk[r], cmap='gray')\r\n"
   ],
   "outputs": [
    {
     "output_type": "execute_result",
     "data": {
      "text/plain": [
       "<matplotlib.image.AxesImage at 0x2d7701fa9d0>"
      ]
     },
     "metadata": {},
     "execution_count": 7
    },
    {
     "output_type": "display_data",
     "data": {
      "text/plain": [
       "<Figure size 432x288 with 2 Axes>"
      ],
      "image/svg+xml": "<?xml version=\"1.0\" encoding=\"utf-8\" standalone=\"no\"?>\r\n<!DOCTYPE svg PUBLIC \"-//W3C//DTD SVG 1.1//EN\"\r\n  \"http://www.w3.org/Graphics/SVG/1.1/DTD/svg11.dtd\">\r\n<svg height=\"174.241113pt\" version=\"1.1\" viewBox=\"0 0 375.2875 174.241113\" width=\"375.2875pt\" xmlns=\"http://www.w3.org/2000/svg\" xmlns:xlink=\"http://www.w3.org/1999/xlink\">\r\n <metadata>\r\n  <rdf:RDF xmlns:cc=\"http://creativecommons.org/ns#\" xmlns:dc=\"http://purl.org/dc/elements/1.1/\" xmlns:rdf=\"http://www.w3.org/1999/02/22-rdf-syntax-ns#\">\r\n   <cc:Work>\r\n    <dc:type rdf:resource=\"http://purl.org/dc/dcmitype/StillImage\"/>\r\n    <dc:date>2021-08-18T11:07:58.644842</dc:date>\r\n    <dc:format>image/svg+xml</dc:format>\r\n    <dc:creator>\r\n     <cc:Agent>\r\n      <dc:title>Matplotlib v3.4.1, https://matplotlib.org/</dc:title>\r\n     </cc:Agent>\r\n    </dc:creator>\r\n   </cc:Work>\r\n  </rdf:RDF>\r\n </metadata>\r\n <defs>\r\n  <style type=\"text/css\">*{stroke-linecap:butt;stroke-linejoin:round;}</style>\r\n </defs>\r\n <g id=\"figure_1\">\r\n  <g id=\"patch_1\">\r\n   <path d=\"M 0 174.241113 \r\nL 375.2875 174.241113 \r\nL 375.2875 0 \r\nL 0 0 \r\nz\r\n\" style=\"fill:none;\"/>\r\n  </g>\r\n  <g id=\"axes_1\">\r\n   <g id=\"patch_2\">\r\n    <path d=\"M 33.2875 150.362988 \r\nL 172.7875 150.362988 \r\nL 172.7875 10.862988 \r\nL 33.2875 10.862988 \r\nz\r\n\" style=\"fill:#ffffff;\"/>\r\n   </g>\r\n   <g clip-path=\"url(#p8db54db2ed)\">\r\n    <image height=\"140\" id=\"image86b5bb5a3d\" transform=\"scale(1 -1)translate(0 -140)\" width=\"140\" x=\"33.2875\" xlink:href=\"data:image/png;base64,\r\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\" y=\"-10.362988\"/>\r\n   </g>\r\n   <g id=\"matplotlib.axis_1\">\r\n    <g id=\"xtick_1\">\r\n     <g id=\"line2d_1\">\r\n      <defs>\r\n       <path d=\"M 0 0 \r\nL 0 3.5 \r\n\" id=\"m6768e47561\" style=\"stroke:#000000;stroke-width:0.8;\"/>\r\n      </defs>\r\n      <g>\r\n       <use style=\"stroke:#000000;stroke-width:0.8;\" x=\"33.42373\" xlink:href=\"#m6768e47561\" y=\"150.362988\"/>\r\n      </g>\r\n     </g>\r\n     <g id=\"text_1\">\r\n      <!-- 0 -->\r\n      <g transform=\"translate(30.24248 164.961426)scale(0.1 -0.1)\">\r\n       <defs>\r\n        <path d=\"M 2034 4250 \r\nQ 1547 4250 1301 3770 \r\nQ 1056 3291 1056 2328 \r\nQ 1056 1369 1301 889 \r\nQ 1547 409 2034 409 \r\nQ 2525 409 2770 889 \r\nQ 3016 1369 3016 2328 \r\nQ 3016 3291 2770 3770 \r\nQ 2525 4250 2034 4250 \r\nz\r\nM 2034 4750 \r\nQ 2819 4750 3233 4129 \r\nQ 3647 3509 3647 2328 \r\nQ 3647 1150 3233 529 \r\nQ 2819 -91 2034 -91 \r\nQ 1250 -91 836 529 \r\nQ 422 1150 422 2328 \r\nQ 422 3509 836 4129 \r\nQ 1250 4750 2034 4750 \r\nz\r\n\" id=\"DejaVuSans-30\" transform=\"scale(0.015625)\"/>\r\n       </defs>\r\n       <use xlink:href=\"#DejaVuSans-30\"/>\r\n      </g>\r\n     </g>\r\n    </g>\r\n    <g id=\"xtick_2\">\r\n     <g id=\"line2d_2\">\r\n      <g>\r\n       <use style=\"stroke:#000000;stroke-width:0.8;\" x=\"87.915918\" xlink:href=\"#m6768e47561\" y=\"150.362988\"/>\r\n      </g>\r\n     </g>\r\n     <g id=\"text_2\">\r\n      <!-- 200 -->\r\n      <g transform=\"translate(78.372168 164.961426)scale(0.1 -0.1)\">\r\n       <defs>\r\n        <path d=\"M 1228 531 \r\nL 3431 531 \r\nL 3431 0 \r\nL 469 0 \r\nL 469 531 \r\nQ 828 903 1448 1529 \r\nQ 2069 2156 2228 2338 \r\nQ 2531 2678 2651 2914 \r\nQ 2772 3150 2772 3378 \r\nQ 2772 3750 2511 3984 \r\nQ 2250 4219 1831 4219 \r\nQ 1534 4219 1204 4116 \r\nQ 875 4013 500 3803 \r\nL 500 4441 \r\nQ 881 4594 1212 4672 \r\nQ 1544 4750 1819 4750 \r\nQ 2544 4750 2975 4387 \r\nQ 3406 4025 3406 3419 \r\nQ 3406 3131 3298 2873 \r\nQ 3191 2616 2906 2266 \r\nQ 2828 2175 2409 1742 \r\nQ 1991 1309 1228 531 \r\nz\r\n\" id=\"DejaVuSans-32\" transform=\"scale(0.015625)\"/>\r\n       </defs>\r\n       <use xlink:href=\"#DejaVuSans-32\"/>\r\n       <use x=\"63.623047\" xlink:href=\"#DejaVuSans-30\"/>\r\n       <use x=\"127.246094\" xlink:href=\"#DejaVuSans-30\"/>\r\n      </g>\r\n     </g>\r\n    </g>\r\n    <g id=\"xtick_3\">\r\n     <g id=\"line2d_3\">\r\n      <g>\r\n       <use style=\"stroke:#000000;stroke-width:0.8;\" x=\"142.408105\" xlink:href=\"#m6768e47561\" y=\"150.362988\"/>\r\n      </g>\r\n     </g>\r\n     <g id=\"text_3\">\r\n      <!-- 400 -->\r\n      <g transform=\"translate(132.864355 164.961426)scale(0.1 -0.1)\">\r\n       <defs>\r\n        <path d=\"M 2419 4116 \r\nL 825 1625 \r\nL 2419 1625 \r\nL 2419 4116 \r\nz\r\nM 2253 4666 \r\nL 3047 4666 \r\nL 3047 1625 \r\nL 3713 1625 \r\nL 3713 1100 \r\nL 3047 1100 \r\nL 3047 0 \r\nL 2419 0 \r\nL 2419 1100 \r\nL 313 1100 \r\nL 313 1709 \r\nL 2253 4666 \r\nz\r\n\" id=\"DejaVuSans-34\" transform=\"scale(0.015625)\"/>\r\n       </defs>\r\n       <use xlink:href=\"#DejaVuSans-34\"/>\r\n       <use x=\"63.623047\" xlink:href=\"#DejaVuSans-30\"/>\r\n       <use x=\"127.246094\" xlink:href=\"#DejaVuSans-30\"/>\r\n      </g>\r\n     </g>\r\n    </g>\r\n   </g>\r\n   <g id=\"matplotlib.axis_2\">\r\n    <g id=\"ytick_1\">\r\n     <g id=\"line2d_4\">\r\n      <defs>\r\n       <path d=\"M 0 0 \r\nL -3.5 0 \r\n\" id=\"m4ba56e8303\" style=\"stroke:#000000;stroke-width:0.8;\"/>\r\n      </defs>\r\n      <g>\r\n       <use style=\"stroke:#000000;stroke-width:0.8;\" x=\"33.2875\" xlink:href=\"#m4ba56e8303\" y=\"10.999219\"/>\r\n      </g>\r\n     </g>\r\n     <g id=\"text_4\">\r\n      <!-- 0 -->\r\n      <g transform=\"translate(19.925 14.798438)scale(0.1 -0.1)\">\r\n       <use xlink:href=\"#DejaVuSans-30\"/>\r\n      </g>\r\n     </g>\r\n    </g>\r\n    <g id=\"ytick_2\">\r\n     <g id=\"line2d_5\">\r\n      <g>\r\n       <use style=\"stroke:#000000;stroke-width:0.8;\" x=\"33.2875\" xlink:href=\"#m4ba56e8303\" y=\"38.245313\"/>\r\n      </g>\r\n     </g>\r\n     <g id=\"text_5\">\r\n      <!-- 100 -->\r\n      <g transform=\"translate(7.2 42.044531)scale(0.1 -0.1)\">\r\n       <defs>\r\n        <path d=\"M 794 531 \r\nL 1825 531 \r\nL 1825 4091 \r\nL 703 3866 \r\nL 703 4441 \r\nL 1819 4666 \r\nL 2450 4666 \r\nL 2450 531 \r\nL 3481 531 \r\nL 3481 0 \r\nL 794 0 \r\nL 794 531 \r\nz\r\n\" id=\"DejaVuSans-31\" transform=\"scale(0.015625)\"/>\r\n       </defs>\r\n       <use xlink:href=\"#DejaVuSans-31\"/>\r\n       <use x=\"63.623047\" xlink:href=\"#DejaVuSans-30\"/>\r\n       <use x=\"127.246094\" xlink:href=\"#DejaVuSans-30\"/>\r\n      </g>\r\n     </g>\r\n    </g>\r\n    <g id=\"ytick_3\">\r\n     <g id=\"line2d_6\">\r\n      <g>\r\n       <use style=\"stroke:#000000;stroke-width:0.8;\" x=\"33.2875\" xlink:href=\"#m4ba56e8303\" y=\"65.491406\"/>\r\n      </g>\r\n     </g>\r\n     <g id=\"text_6\">\r\n      <!-- 200 -->\r\n      <g transform=\"translate(7.2 69.290625)scale(0.1 -0.1)\">\r\n       <use xlink:href=\"#DejaVuSans-32\"/>\r\n       <use x=\"63.623047\" xlink:href=\"#DejaVuSans-30\"/>\r\n       <use x=\"127.246094\" xlink:href=\"#DejaVuSans-30\"/>\r\n      </g>\r\n     </g>\r\n    </g>\r\n    <g id=\"ytick_4\">\r\n     <g id=\"line2d_7\">\r\n      <g>\r\n       <use style=\"stroke:#000000;stroke-width:0.8;\" x=\"33.2875\" xlink:href=\"#m4ba56e8303\" y=\"92.7375\"/>\r\n      </g>\r\n     </g>\r\n     <g id=\"text_7\">\r\n      <!-- 300 -->\r\n      <g transform=\"translate(7.2 96.536719)scale(0.1 -0.1)\">\r\n       <defs>\r\n        <path d=\"M 2597 2516 \r\nQ 3050 2419 3304 2112 \r\nQ 3559 1806 3559 1356 \r\nQ 3559 666 3084 287 \r\nQ 2609 -91 1734 -91 \r\nQ 1441 -91 1130 -33 \r\nQ 819 25 488 141 \r\nL 488 750 \r\nQ 750 597 1062 519 \r\nQ 1375 441 1716 441 \r\nQ 2309 441 2620 675 \r\nQ 2931 909 2931 1356 \r\nQ 2931 1769 2642 2001 \r\nQ 2353 2234 1838 2234 \r\nL 1294 2234 \r\nL 1294 2753 \r\nL 1863 2753 \r\nQ 2328 2753 2575 2939 \r\nQ 2822 3125 2822 3475 \r\nQ 2822 3834 2567 4026 \r\nQ 2313 4219 1838 4219 \r\nQ 1578 4219 1281 4162 \r\nQ 984 4106 628 3988 \r\nL 628 4550 \r\nQ 988 4650 1302 4700 \r\nQ 1616 4750 1894 4750 \r\nQ 2613 4750 3031 4423 \r\nQ 3450 4097 3450 3541 \r\nQ 3450 3153 3228 2886 \r\nQ 3006 2619 2597 2516 \r\nz\r\n\" id=\"DejaVuSans-33\" transform=\"scale(0.015625)\"/>\r\n       </defs>\r\n       <use xlink:href=\"#DejaVuSans-33\"/>\r\n       <use x=\"63.623047\" xlink:href=\"#DejaVuSans-30\"/>\r\n       <use x=\"127.246094\" xlink:href=\"#DejaVuSans-30\"/>\r\n      </g>\r\n     </g>\r\n    </g>\r\n    <g id=\"ytick_5\">\r\n     <g id=\"line2d_8\">\r\n      <g>\r\n       <use style=\"stroke:#000000;stroke-width:0.8;\" x=\"33.2875\" xlink:href=\"#m4ba56e8303\" y=\"119.983594\"/>\r\n      </g>\r\n     </g>\r\n     <g id=\"text_8\">\r\n      <!-- 400 -->\r\n      <g transform=\"translate(7.2 123.782813)scale(0.1 -0.1)\">\r\n       <use xlink:href=\"#DejaVuSans-34\"/>\r\n       <use x=\"63.623047\" xlink:href=\"#DejaVuSans-30\"/>\r\n       <use x=\"127.246094\" xlink:href=\"#DejaVuSans-30\"/>\r\n      </g>\r\n     </g>\r\n    </g>\r\n    <g id=\"ytick_6\">\r\n     <g id=\"line2d_9\">\r\n      <g>\r\n       <use style=\"stroke:#000000;stroke-width:0.8;\" x=\"33.2875\" xlink:href=\"#m4ba56e8303\" y=\"147.229688\"/>\r\n      </g>\r\n     </g>\r\n     <g id=\"text_9\">\r\n      <!-- 500 -->\r\n      <g transform=\"translate(7.2 151.028906)scale(0.1 -0.1)\">\r\n       <defs>\r\n        <path d=\"M 691 4666 \r\nL 3169 4666 \r\nL 3169 4134 \r\nL 1269 4134 \r\nL 1269 2991 \r\nQ 1406 3038 1543 3061 \r\nQ 1681 3084 1819 3084 \r\nQ 2600 3084 3056 2656 \r\nQ 3513 2228 3513 1497 \r\nQ 3513 744 3044 326 \r\nQ 2575 -91 1722 -91 \r\nQ 1428 -91 1123 -41 \r\nQ 819 9 494 109 \r\nL 494 744 \r\nQ 775 591 1075 516 \r\nQ 1375 441 1709 441 \r\nQ 2250 441 2565 725 \r\nQ 2881 1009 2881 1497 \r\nQ 2881 1984 2565 2268 \r\nQ 2250 2553 1709 2553 \r\nQ 1456 2553 1204 2497 \r\nQ 953 2441 691 2322 \r\nL 691 4666 \r\nz\r\n\" id=\"DejaVuSans-35\" transform=\"scale(0.015625)\"/>\r\n       </defs>\r\n       <use xlink:href=\"#DejaVuSans-35\"/>\r\n       <use x=\"63.623047\" xlink:href=\"#DejaVuSans-30\"/>\r\n       <use x=\"127.246094\" xlink:href=\"#DejaVuSans-30\"/>\r\n      </g>\r\n     </g>\r\n    </g>\r\n   </g>\r\n   <g id=\"patch_3\">\r\n    <path d=\"M 33.2875 150.362988 \r\nL 33.2875 10.862988 \r\n\" style=\"fill:none;stroke:#000000;stroke-linecap:square;stroke-linejoin:miter;stroke-width:0.8;\"/>\r\n   </g>\r\n   <g id=\"patch_4\">\r\n    <path d=\"M 172.7875 150.362988 \r\nL 172.7875 10.862988 \r\n\" style=\"fill:none;stroke:#000000;stroke-linecap:square;stroke-linejoin:miter;stroke-width:0.8;\"/>\r\n   </g>\r\n   <g id=\"patch_5\">\r\n    <path d=\"M 33.2875 150.362988 \r\nL 172.7875 150.362988 \r\n\" style=\"fill:none;stroke:#000000;stroke-linecap:square;stroke-linejoin:miter;stroke-width:0.8;\"/>\r\n   </g>\r\n   <g id=\"patch_6\">\r\n    <path d=\"M 33.2875 10.862988 \r\nL 172.7875 10.862988 \r\n\" style=\"fill:none;stroke:#000000;stroke-linecap:square;stroke-linejoin:miter;stroke-width:0.8;\"/>\r\n   </g>\r\n  </g>\r\n  <g id=\"axes_2\">\r\n   <g id=\"patch_7\">\r\n    <path d=\"M 228.5875 150.362988 \r\nL 368.0875 150.362988 \r\nL 368.0875 10.862988 \r\nL 228.5875 10.862988 \r\nz\r\n\" style=\"fill:#ffffff;\"/>\r\n   </g>\r\n   <g clip-path=\"url(#p8a294b77ff)\">\r\n    <image height=\"140\" id=\"image5262850ae1\" transform=\"scale(1 -1)translate(0 -140)\" width=\"140\" x=\"228.5875\" xlink:href=\"data:image/png;base64,\r\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\" y=\"-10.362988\"/>\r\n   </g>\r\n   <g id=\"matplotlib.axis_3\">\r\n    <g id=\"xtick_4\">\r\n     <g id=\"line2d_10\">\r\n      <g>\r\n       <use style=\"stroke:#000000;stroke-width:0.8;\" x=\"228.72373\" xlink:href=\"#m6768e47561\" y=\"150.362988\"/>\r\n      </g>\r\n     </g>\r\n     <g id=\"text_10\">\r\n      <!-- 0 -->\r\n      <g transform=\"translate(225.54248 164.961426)scale(0.1 -0.1)\">\r\n       <use xlink:href=\"#DejaVuSans-30\"/>\r\n      </g>\r\n     </g>\r\n    </g>\r\n    <g id=\"xtick_5\">\r\n     <g id=\"line2d_11\">\r\n      <g>\r\n       <use style=\"stroke:#000000;stroke-width:0.8;\" x=\"283.215918\" xlink:href=\"#m6768e47561\" y=\"150.362988\"/>\r\n      </g>\r\n     </g>\r\n     <g id=\"text_11\">\r\n      <!-- 200 -->\r\n      <g transform=\"translate(273.672168 164.961426)scale(0.1 -0.1)\">\r\n       <use xlink:href=\"#DejaVuSans-32\"/>\r\n       <use x=\"63.623047\" xlink:href=\"#DejaVuSans-30\"/>\r\n       <use x=\"127.246094\" xlink:href=\"#DejaVuSans-30\"/>\r\n      </g>\r\n     </g>\r\n    </g>\r\n    <g id=\"xtick_6\">\r\n     <g id=\"line2d_12\">\r\n      <g>\r\n       <use style=\"stroke:#000000;stroke-width:0.8;\" x=\"337.708105\" xlink:href=\"#m6768e47561\" y=\"150.362988\"/>\r\n      </g>\r\n     </g>\r\n     <g id=\"text_12\">\r\n      <!-- 400 -->\r\n      <g transform=\"translate(328.164355 164.961426)scale(0.1 -0.1)\">\r\n       <use xlink:href=\"#DejaVuSans-34\"/>\r\n       <use x=\"63.623047\" xlink:href=\"#DejaVuSans-30\"/>\r\n       <use x=\"127.246094\" xlink:href=\"#DejaVuSans-30\"/>\r\n      </g>\r\n     </g>\r\n    </g>\r\n   </g>\r\n   <g id=\"matplotlib.axis_4\">\r\n    <g id=\"ytick_7\">\r\n     <g id=\"line2d_13\">\r\n      <g>\r\n       <use style=\"stroke:#000000;stroke-width:0.8;\" x=\"228.5875\" xlink:href=\"#m4ba56e8303\" y=\"10.999219\"/>\r\n      </g>\r\n     </g>\r\n     <g id=\"text_13\">\r\n      <!-- 0 -->\r\n      <g transform=\"translate(215.225 14.798437)scale(0.1 -0.1)\">\r\n       <use xlink:href=\"#DejaVuSans-30\"/>\r\n      </g>\r\n     </g>\r\n    </g>\r\n    <g id=\"ytick_8\">\r\n     <g id=\"line2d_14\">\r\n      <g>\r\n       <use style=\"stroke:#000000;stroke-width:0.8;\" x=\"228.5875\" xlink:href=\"#m4ba56e8303\" y=\"38.245312\"/>\r\n      </g>\r\n     </g>\r\n     <g id=\"text_14\">\r\n      <!-- 100 -->\r\n      <g transform=\"translate(202.5 42.044531)scale(0.1 -0.1)\">\r\n       <use xlink:href=\"#DejaVuSans-31\"/>\r\n       <use x=\"63.623047\" xlink:href=\"#DejaVuSans-30\"/>\r\n       <use x=\"127.246094\" xlink:href=\"#DejaVuSans-30\"/>\r\n      </g>\r\n     </g>\r\n    </g>\r\n    <g id=\"ytick_9\">\r\n     <g id=\"line2d_15\">\r\n      <g>\r\n       <use style=\"stroke:#000000;stroke-width:0.8;\" x=\"228.5875\" xlink:href=\"#m4ba56e8303\" y=\"65.491406\"/>\r\n      </g>\r\n     </g>\r\n     <g id=\"text_15\">\r\n      <!-- 200 -->\r\n      <g transform=\"translate(202.5 69.290625)scale(0.1 -0.1)\">\r\n       <use xlink:href=\"#DejaVuSans-32\"/>\r\n       <use x=\"63.623047\" xlink:href=\"#DejaVuSans-30\"/>\r\n       <use x=\"127.246094\" xlink:href=\"#DejaVuSans-30\"/>\r\n      </g>\r\n     </g>\r\n    </g>\r\n    <g id=\"ytick_10\">\r\n     <g id=\"line2d_16\">\r\n      <g>\r\n       <use style=\"stroke:#000000;stroke-width:0.8;\" x=\"228.5875\" xlink:href=\"#m4ba56e8303\" y=\"92.7375\"/>\r\n      </g>\r\n     </g>\r\n     <g id=\"text_16\">\r\n      <!-- 300 -->\r\n      <g transform=\"translate(202.5 96.536719)scale(0.1 -0.1)\">\r\n       <use xlink:href=\"#DejaVuSans-33\"/>\r\n       <use x=\"63.623047\" xlink:href=\"#DejaVuSans-30\"/>\r\n       <use x=\"127.246094\" xlink:href=\"#DejaVuSans-30\"/>\r\n      </g>\r\n     </g>\r\n    </g>\r\n    <g id=\"ytick_11\">\r\n     <g id=\"line2d_17\">\r\n      <g>\r\n       <use style=\"stroke:#000000;stroke-width:0.8;\" x=\"228.5875\" xlink:href=\"#m4ba56e8303\" y=\"119.983594\"/>\r\n      </g>\r\n     </g>\r\n     <g id=\"text_17\">\r\n      <!-- 400 -->\r\n      <g transform=\"translate(202.5 123.782813)scale(0.1 -0.1)\">\r\n       <use xlink:href=\"#DejaVuSans-34\"/>\r\n       <use x=\"63.623047\" xlink:href=\"#DejaVuSans-30\"/>\r\n       <use x=\"127.246094\" xlink:href=\"#DejaVuSans-30\"/>\r\n      </g>\r\n     </g>\r\n    </g>\r\n    <g id=\"ytick_12\">\r\n     <g id=\"line2d_18\">\r\n      <g>\r\n       <use style=\"stroke:#000000;stroke-width:0.8;\" x=\"228.5875\" xlink:href=\"#m4ba56e8303\" y=\"147.229688\"/>\r\n      </g>\r\n     </g>\r\n     <g id=\"text_18\">\r\n      <!-- 500 -->\r\n      <g transform=\"translate(202.5 151.028906)scale(0.1 -0.1)\">\r\n       <use xlink:href=\"#DejaVuSans-35\"/>\r\n       <use x=\"63.623047\" xlink:href=\"#DejaVuSans-30\"/>\r\n       <use x=\"127.246094\" xlink:href=\"#DejaVuSans-30\"/>\r\n      </g>\r\n     </g>\r\n    </g>\r\n   </g>\r\n   <g id=\"patch_8\">\r\n    <path d=\"M 228.5875 150.362988 \r\nL 228.5875 10.862988 \r\n\" style=\"fill:none;stroke:#000000;stroke-linecap:square;stroke-linejoin:miter;stroke-width:0.8;\"/>\r\n   </g>\r\n   <g id=\"patch_9\">\r\n    <path d=\"M 368.0875 150.362988 \r\nL 368.0875 10.862988 \r\n\" style=\"fill:none;stroke:#000000;stroke-linecap:square;stroke-linejoin:miter;stroke-width:0.8;\"/>\r\n   </g>\r\n   <g id=\"patch_10\">\r\n    <path d=\"M 228.5875 150.362988 \r\nL 368.0875 150.362988 \r\n\" style=\"fill:none;stroke:#000000;stroke-linecap:square;stroke-linejoin:miter;stroke-width:0.8;\"/>\r\n   </g>\r\n   <g id=\"patch_11\">\r\n    <path d=\"M 228.5875 10.862988 \r\nL 368.0875 10.862988 \r\n\" style=\"fill:none;stroke:#000000;stroke-linecap:square;stroke-linejoin:miter;stroke-width:0.8;\"/>\r\n   </g>\r\n  </g>\r\n </g>\r\n <defs>\r\n  <clipPath id=\"p8db54db2ed\">\r\n   <rect height=\"139.5\" width=\"139.5\" x=\"33.2875\" y=\"10.862988\"/>\r\n  </clipPath>\r\n  <clipPath id=\"p8a294b77ff\">\r\n   <rect height=\"139.5\" width=\"139.5\" x=\"228.5875\" y=\"10.862988\"/>\r\n  </clipPath>\r\n </defs>\r\n</svg>\r\n",
      "image/png": "[encoded data removed]"
     },
     "metadata": {
      "needs_background": "light"
     }
    }
   ],
   "metadata": {}
  },
  {
   "cell_type": "markdown",
   "source": [
    "## Convolutional Blocks"
   ],
   "metadata": {}
  },
  {
   "cell_type": "code",
   "execution_count": 8,
   "source": [
    "def down_block(x, filters, kernel_size=(3,3), padding=\"same\", strides=1):\r\n",
    "    c = keras.layers.Conv2D(filters, kernel_size, padding=padding, strides=strides, activation='relu')(x)\r\n",
    "    c = keras.layers.Conv2D(filters, kernel_size, padding=padding, strides=strides, activation='relu')(c)\r\n",
    "\r\n",
    "    p = keras.layers.MaxPool2D((2,2), (2,2))(c)\r\n",
    "    return c, p \r\n",
    "\r\n",
    "def up_block(x, skip, filters, kernel_size=(3,3), padding=\"same\", strides=1):\r\n",
    "    up_sampling = keras.layers.UpSampling2D((2,2))(x)\r\n",
    "    concat = keras.layers.Concatenate()([up_sampling, skip])\r\n",
    "\r\n",
    "    c = keras.layers.Conv2D(filters, kernel_size, padding=padding, strides=strides, activation='relu')(concat)\r\n",
    "    c = keras.layers.Conv2D(filters, kernel_size, padding=padding, strides=strides, activation='relu')(c)\r\n",
    "\r\n",
    "    return c\r\n",
    "\r\n",
    "def bottleneck(x, filters, kernel_size=(3,3), padding=\"same\", strides=1):\r\n",
    "    c = keras.layers.Conv2D(filters, kernel_size, padding=padding, strides=strides, activation='relu')(x)\r\n",
    "    c = keras.layers.Conv2D(filters, kernel_size, padding=padding, strides=strides, activation='relu')(c)\r\n",
    "\r\n",
    "    return c"
   ],
   "outputs": [],
   "metadata": {}
  },
  {
   "cell_type": "markdown",
   "source": [
    "## UNet Model"
   ],
   "metadata": {}
  },
  {
   "cell_type": "code",
   "execution_count": 9,
   "source": [
    "def UNet():\r\n",
    "    feature_maps = [64,128,256, 512, 1024]\r\n",
    "    inputs = keras.layers.Input( (image_size, image_size, 1) )\r\n",
    "\r\n",
    "    pool_0 = inputs\r\n",
    "    conv_1, pool_1 = down_block(pool_0, feature_maps[0]) #512 -> 256\r\n",
    "    conv_2, pool_2 = down_block(pool_1, feature_maps[1]) #256 -> 128 \r\n",
    "    conv_3, pool_3 = down_block(pool_2, feature_maps[2]) #128 -> 64\r\n",
    "    conv_4, pool_4 = down_block(pool_3, feature_maps[3]) #64 -> 32\r\n",
    "\r\n",
    "    bn = bottleneck(pool_4, feature_maps[4])\r\n",
    "\r\n",
    "    ups_1 = up_block(bn, conv_4, feature_maps[3]) #32 -> 64\r\n",
    "    ups_2 = up_block(ups_1, conv_3, feature_maps[2]) #64 -> 128\r\n",
    "    ups_3 = up_block(ups_2, conv_2, feature_maps[1]) #128 -> 256\r\n",
    "    ups_4 = up_block(ups_3, conv_1, feature_maps[0]) #256 -> 512\r\n",
    "\r\n",
    "    outputs = keras.layers.Conv2D(1, (1,1), padding='same', activation='sigmoid')(ups_4)\r\n",
    "\r\n",
    "    model = keras.models.Model(inputs, outputs)\r\n",
    "    return model"
   ],
   "outputs": [],
   "metadata": {}
  },
  {
   "cell_type": "code",
   "execution_count": 25,
   "source": [
    "def jaccard_distance(y_true, y_pred, smooth=100):\r\n",
    "    intersection = keras.backend.sum(keras.backend.abs(y_true * y_pred), axis=-1)\r\n",
    "    sum_ = keras.backend.sum(keras.backend.square(y_true), axis = -1) + keras.backend.sum(keras.backend.square(y_pred), axis=-1)\r\n",
    "    jac = (intersection + smooth) / (sum_ - intersection + smooth)\r\n",
    "    return (1 - jac)\r\n"
   ],
   "outputs": [],
   "metadata": {}
  },
  {
   "cell_type": "markdown",
   "source": [],
   "metadata": {}
  },
  {
   "cell_type": "code",
   "execution_count": 26,
   "source": [
    "model = UNet()\r\n",
    "\r\n",
    "model.compile(optimizer='adam', loss=jaccard_distance, metrics=['acc'])\r\n",
    "model.summary()"
   ],
   "outputs": [
    {
     "output_type": "stream",
     "name": "stdout",
     "text": [
      "Model: \"model_1\"\n",
      "__________________________________________________________________________________________________\n",
      "Layer (type)                    Output Shape         Param #     Connected to                     \n",
      "==================================================================================================\n",
      "input_2 (InputLayer)            [(None, 512, 512, 1) 0                                            \n",
      "__________________________________________________________________________________________________\n",
      "conv2d_19 (Conv2D)              (None, 512, 512, 64) 640         input_2[0][0]                    \n",
      "__________________________________________________________________________________________________\n",
      "conv2d_20 (Conv2D)              (None, 512, 512, 64) 36928       conv2d_19[0][0]                  \n",
      "__________________________________________________________________________________________________\n",
      "max_pooling2d_4 (MaxPooling2D)  (None, 256, 256, 64) 0           conv2d_20[0][0]                  \n",
      "__________________________________________________________________________________________________\n",
      "conv2d_21 (Conv2D)              (None, 256, 256, 128 73856       max_pooling2d_4[0][0]            \n",
      "__________________________________________________________________________________________________\n",
      "conv2d_22 (Conv2D)              (None, 256, 256, 128 147584      conv2d_21[0][0]                  \n",
      "__________________________________________________________________________________________________\n",
      "max_pooling2d_5 (MaxPooling2D)  (None, 128, 128, 128 0           conv2d_22[0][0]                  \n",
      "__________________________________________________________________________________________________\n",
      "conv2d_23 (Conv2D)              (None, 128, 128, 256 295168      max_pooling2d_5[0][0]            \n",
      "__________________________________________________________________________________________________\n",
      "conv2d_24 (Conv2D)              (None, 128, 128, 256 590080      conv2d_23[0][0]                  \n",
      "__________________________________________________________________________________________________\n",
      "max_pooling2d_6 (MaxPooling2D)  (None, 64, 64, 256)  0           conv2d_24[0][0]                  \n",
      "__________________________________________________________________________________________________\n",
      "conv2d_25 (Conv2D)              (None, 64, 64, 512)  1180160     max_pooling2d_6[0][0]            \n",
      "__________________________________________________________________________________________________\n",
      "conv2d_26 (Conv2D)              (None, 64, 64, 512)  2359808     conv2d_25[0][0]                  \n",
      "__________________________________________________________________________________________________\n",
      "max_pooling2d_7 (MaxPooling2D)  (None, 32, 32, 512)  0           conv2d_26[0][0]                  \n",
      "__________________________________________________________________________________________________\n",
      "conv2d_27 (Conv2D)              (None, 32, 32, 1024) 4719616     max_pooling2d_7[0][0]            \n",
      "__________________________________________________________________________________________________\n",
      "conv2d_28 (Conv2D)              (None, 32, 32, 1024) 9438208     conv2d_27[0][0]                  \n",
      "__________________________________________________________________________________________________\n",
      "up_sampling2d_4 (UpSampling2D)  (None, 64, 64, 1024) 0           conv2d_28[0][0]                  \n",
      "__________________________________________________________________________________________________\n",
      "concatenate_4 (Concatenate)     (None, 64, 64, 1536) 0           up_sampling2d_4[0][0]            \n",
      "                                                                 conv2d_26[0][0]                  \n",
      "__________________________________________________________________________________________________\n",
      "conv2d_29 (Conv2D)              (None, 64, 64, 512)  7078400     concatenate_4[0][0]              \n",
      "__________________________________________________________________________________________________\n",
      "conv2d_30 (Conv2D)              (None, 64, 64, 512)  2359808     conv2d_29[0][0]                  \n",
      "__________________________________________________________________________________________________\n",
      "up_sampling2d_5 (UpSampling2D)  (None, 128, 128, 512 0           conv2d_30[0][0]                  \n",
      "__________________________________________________________________________________________________\n",
      "concatenate_5 (Concatenate)     (None, 128, 128, 768 0           up_sampling2d_5[0][0]            \n",
      "                                                                 conv2d_24[0][0]                  \n",
      "__________________________________________________________________________________________________\n",
      "conv2d_31 (Conv2D)              (None, 128, 128, 256 1769728     concatenate_5[0][0]              \n",
      "__________________________________________________________________________________________________\n",
      "conv2d_32 (Conv2D)              (None, 128, 128, 256 590080      conv2d_31[0][0]                  \n",
      "__________________________________________________________________________________________________\n",
      "up_sampling2d_6 (UpSampling2D)  (None, 256, 256, 256 0           conv2d_32[0][0]                  \n",
      "__________________________________________________________________________________________________\n",
      "concatenate_6 (Concatenate)     (None, 256, 256, 384 0           up_sampling2d_6[0][0]            \n",
      "                                                                 conv2d_22[0][0]                  \n",
      "__________________________________________________________________________________________________\n",
      "conv2d_33 (Conv2D)              (None, 256, 256, 128 442496      concatenate_6[0][0]              \n",
      "__________________________________________________________________________________________________\n",
      "conv2d_34 (Conv2D)              (None, 256, 256, 128 147584      conv2d_33[0][0]                  \n",
      "__________________________________________________________________________________________________\n",
      "up_sampling2d_7 (UpSampling2D)  (None, 512, 512, 128 0           conv2d_34[0][0]                  \n",
      "__________________________________________________________________________________________________\n",
      "concatenate_7 (Concatenate)     (None, 512, 512, 192 0           up_sampling2d_7[0][0]            \n",
      "                                                                 conv2d_20[0][0]                  \n",
      "__________________________________________________________________________________________________\n",
      "conv2d_35 (Conv2D)              (None, 512, 512, 64) 110656      concatenate_7[0][0]              \n",
      "__________________________________________________________________________________________________\n",
      "conv2d_36 (Conv2D)              (None, 512, 512, 64) 36928       conv2d_35[0][0]                  \n",
      "__________________________________________________________________________________________________\n",
      "conv2d_37 (Conv2D)              (None, 512, 512, 1)  65          conv2d_36[0][0]                  \n",
      "==================================================================================================\n",
      "Total params: 31,377,793\n",
      "Trainable params: 31,377,793\n",
      "Non-trainable params: 0\n",
      "__________________________________________________________________________________________________\n"
     ]
    }
   ],
   "metadata": {}
  },
  {
   "cell_type": "code",
   "execution_count": 11,
   "source": [
    "v_data = (test_img, test_msk)\r\n",
    "v_data"
   ],
   "outputs": [
    {
     "output_type": "execute_result",
     "data": {
      "text/plain": [
       "(array([[[[0.58039216],\n",
       "          [0.38039216],\n",
       "          [0.38431373],\n",
       "          ...,\n",
       "          [0.38431373],\n",
       "          [0.38039216],\n",
       "          [0.58431373]],\n",
       " \n",
       "         [[0.30588235],\n",
       "          [0.29803922],\n",
       "          [0.36470588],\n",
       "          ...,\n",
       "          [0.37254902],\n",
       "          [0.29411765],\n",
       "          [0.30588235]],\n",
       " \n",
       "         [[0.33333333],\n",
       "          [0.54509804],\n",
       "          [0.63529412],\n",
       "          ...,\n",
       "          [0.65490196],\n",
       "          [0.54509804],\n",
       "          [0.33333333]],\n",
       " \n",
       "         ...,\n",
       " \n",
       "         [[0.3372549 ],\n",
       "          [0.55686275],\n",
       "          [0.65098039],\n",
       "          ...,\n",
       "          [0.65098039],\n",
       "          [0.54117647],\n",
       "          [0.33333333]],\n",
       " \n",
       "         [[0.29803922],\n",
       "          [0.30980392],\n",
       "          [0.36862745],\n",
       "          ...,\n",
       "          [0.37647059],\n",
       "          [0.30196078],\n",
       "          [0.29803922]],\n",
       " \n",
       "         [[0.58039216],\n",
       "          [0.38823529],\n",
       "          [0.38823529],\n",
       "          ...,\n",
       "          [0.39215686],\n",
       "          [0.38823529],\n",
       "          [0.58039216]]],\n",
       " \n",
       " \n",
       "        [[[0.58039216],\n",
       "          [0.38039216],\n",
       "          [0.38039216],\n",
       "          ...,\n",
       "          [0.38039216],\n",
       "          [0.38039216],\n",
       "          [0.58039216]],\n",
       " \n",
       "         [[0.30980392],\n",
       "          [0.3254902 ],\n",
       "          [0.39607843],\n",
       "          ...,\n",
       "          [0.38431373],\n",
       "          [0.31764706],\n",
       "          [0.30588235]],\n",
       " \n",
       "         [[0.34117647],\n",
       "          [0.59607843],\n",
       "          [0.69411765],\n",
       "          ...,\n",
       "          [0.6627451 ],\n",
       "          [0.57647059],\n",
       "          [0.34117647]],\n",
       " \n",
       "         ...,\n",
       " \n",
       "         [[0.34117647],\n",
       "          [0.59215686],\n",
       "          [0.68235294],\n",
       "          ...,\n",
       "          [0.68235294],\n",
       "          [0.58823529],\n",
       "          [0.34117647]],\n",
       " \n",
       "         [[0.30196078],\n",
       "          [0.31764706],\n",
       "          [0.38823529],\n",
       "          ...,\n",
       "          [0.39215686],\n",
       "          [0.3254902 ],\n",
       "          [0.29803922]],\n",
       " \n",
       "         [[0.58431373],\n",
       "          [0.38823529],\n",
       "          [0.38823529],\n",
       "          ...,\n",
       "          [0.38431373],\n",
       "          [0.38823529],\n",
       "          [0.58431373]]],\n",
       " \n",
       " \n",
       "        [[[0.57254902],\n",
       "          [0.37647059],\n",
       "          [0.38039216],\n",
       "          ...,\n",
       "          [0.38039216],\n",
       "          [0.37254902],\n",
       "          [0.57254902]],\n",
       " \n",
       "         [[0.30588235],\n",
       "          [0.35294118],\n",
       "          [0.43137255],\n",
       "          ...,\n",
       "          [0.4627451 ],\n",
       "          [0.38039216],\n",
       "          [0.29803922]],\n",
       " \n",
       "         [[0.34117647],\n",
       "          [0.64313725],\n",
       "          [0.74509804],\n",
       "          ...,\n",
       "          [0.78823529],\n",
       "          [0.68627451],\n",
       "          [0.34117647]],\n",
       " \n",
       "         ...,\n",
       " \n",
       "         [[0.35294118],\n",
       "          [0.64705882],\n",
       "          [0.74117647],\n",
       "          ...,\n",
       "          [0.78823529],\n",
       "          [0.69019608],\n",
       "          [0.35294118]],\n",
       " \n",
       "         [[0.29803922],\n",
       "          [0.36078431],\n",
       "          [0.43137255],\n",
       "          ...,\n",
       "          [0.45098039],\n",
       "          [0.38431373],\n",
       "          [0.29803922]],\n",
       " \n",
       "         [[0.58039216],\n",
       "          [0.38039216],\n",
       "          [0.38431373],\n",
       "          ...,\n",
       "          [0.38039216],\n",
       "          [0.38039216],\n",
       "          [0.57647059]]],\n",
       " \n",
       " \n",
       "        [[[0.57647059],\n",
       "          [0.38039216],\n",
       "          [0.38823529],\n",
       "          ...,\n",
       "          [0.38431373],\n",
       "          [0.37647059],\n",
       "          [0.58039216]],\n",
       " \n",
       "         [[0.30588235],\n",
       "          [0.29019608],\n",
       "          [0.35686275],\n",
       "          ...,\n",
       "          [0.37647059],\n",
       "          [0.30980392],\n",
       "          [0.30980392]],\n",
       " \n",
       "         [[0.3372549 ],\n",
       "          [0.52941176],\n",
       "          [0.61568627],\n",
       "          ...,\n",
       "          [0.67058824],\n",
       "          [0.58431373],\n",
       "          [0.34117647]],\n",
       " \n",
       "         ...,\n",
       " \n",
       "         [[0.3372549 ],\n",
       "          [0.54509804],\n",
       "          [0.63921569],\n",
       "          ...,\n",
       "          [0.68627451],\n",
       "          [0.58431373],\n",
       "          [0.34509804]],\n",
       " \n",
       "         [[0.29411765],\n",
       "          [0.30196078],\n",
       "          [0.37254902],\n",
       "          ...,\n",
       "          [0.38823529],\n",
       "          [0.32156863],\n",
       "          [0.29803922]],\n",
       " \n",
       "         [[0.58431373],\n",
       "          [0.38823529],\n",
       "          [0.39607843],\n",
       "          ...,\n",
       "          [0.38823529],\n",
       "          [0.38431373],\n",
       "          [0.58431373]]]]),\n",
       " array([[[[0.],\n",
       "          [0.],\n",
       "          [0.],\n",
       "          ...,\n",
       "          [0.],\n",
       "          [0.],\n",
       "          [0.]],\n",
       " \n",
       "         [[0.],\n",
       "          [0.],\n",
       "          [0.],\n",
       "          ...,\n",
       "          [0.],\n",
       "          [0.],\n",
       "          [0.]],\n",
       " \n",
       "         [[0.],\n",
       "          [0.],\n",
       "          [0.],\n",
       "          ...,\n",
       "          [0.],\n",
       "          [0.],\n",
       "          [0.]],\n",
       " \n",
       "         ...,\n",
       " \n",
       "         [[0.],\n",
       "          [0.],\n",
       "          [0.],\n",
       "          ...,\n",
       "          [0.],\n",
       "          [0.],\n",
       "          [0.]],\n",
       " \n",
       "         [[0.],\n",
       "          [0.],\n",
       "          [0.],\n",
       "          ...,\n",
       "          [0.],\n",
       "          [0.],\n",
       "          [0.]],\n",
       " \n",
       "         [[0.],\n",
       "          [0.],\n",
       "          [0.],\n",
       "          ...,\n",
       "          [0.],\n",
       "          [0.],\n",
       "          [0.]]],\n",
       " \n",
       " \n",
       "        [[[0.],\n",
       "          [0.],\n",
       "          [0.],\n",
       "          ...,\n",
       "          [0.],\n",
       "          [0.],\n",
       "          [0.]],\n",
       " \n",
       "         [[0.],\n",
       "          [0.],\n",
       "          [0.],\n",
       "          ...,\n",
       "          [0.],\n",
       "          [0.],\n",
       "          [0.]],\n",
       " \n",
       "         [[0.],\n",
       "          [0.],\n",
       "          [0.],\n",
       "          ...,\n",
       "          [0.],\n",
       "          [0.],\n",
       "          [0.]],\n",
       " \n",
       "         ...,\n",
       " \n",
       "         [[0.],\n",
       "          [0.],\n",
       "          [0.],\n",
       "          ...,\n",
       "          [0.],\n",
       "          [0.],\n",
       "          [0.]],\n",
       " \n",
       "         [[0.],\n",
       "          [0.],\n",
       "          [0.],\n",
       "          ...,\n",
       "          [0.],\n",
       "          [0.],\n",
       "          [0.]],\n",
       " \n",
       "         [[0.],\n",
       "          [0.],\n",
       "          [0.],\n",
       "          ...,\n",
       "          [0.],\n",
       "          [0.],\n",
       "          [0.]]],\n",
       " \n",
       " \n",
       "        [[[0.],\n",
       "          [0.],\n",
       "          [0.],\n",
       "          ...,\n",
       "          [0.],\n",
       "          [0.],\n",
       "          [0.]],\n",
       " \n",
       "         [[0.],\n",
       "          [0.],\n",
       "          [0.],\n",
       "          ...,\n",
       "          [0.],\n",
       "          [0.],\n",
       "          [0.]],\n",
       " \n",
       "         [[0.],\n",
       "          [0.],\n",
       "          [0.],\n",
       "          ...,\n",
       "          [0.],\n",
       "          [0.],\n",
       "          [0.]],\n",
       " \n",
       "         ...,\n",
       " \n",
       "         [[0.],\n",
       "          [0.],\n",
       "          [0.],\n",
       "          ...,\n",
       "          [0.],\n",
       "          [0.],\n",
       "          [0.]],\n",
       " \n",
       "         [[0.],\n",
       "          [0.],\n",
       "          [0.],\n",
       "          ...,\n",
       "          [0.],\n",
       "          [0.],\n",
       "          [0.]],\n",
       " \n",
       "         [[0.],\n",
       "          [0.],\n",
       "          [0.],\n",
       "          ...,\n",
       "          [0.],\n",
       "          [0.],\n",
       "          [0.]]],\n",
       " \n",
       " \n",
       "        [[[0.],\n",
       "          [0.],\n",
       "          [0.],\n",
       "          ...,\n",
       "          [0.],\n",
       "          [0.],\n",
       "          [0.]],\n",
       " \n",
       "         [[0.],\n",
       "          [0.],\n",
       "          [0.],\n",
       "          ...,\n",
       "          [0.],\n",
       "          [0.],\n",
       "          [0.]],\n",
       " \n",
       "         [[0.],\n",
       "          [0.],\n",
       "          [0.],\n",
       "          ...,\n",
       "          [0.],\n",
       "          [0.],\n",
       "          [0.]],\n",
       " \n",
       "         ...,\n",
       " \n",
       "         [[0.],\n",
       "          [0.],\n",
       "          [0.],\n",
       "          ...,\n",
       "          [0.],\n",
       "          [0.],\n",
       "          [0.]],\n",
       " \n",
       "         [[0.],\n",
       "          [0.],\n",
       "          [0.],\n",
       "          ...,\n",
       "          [0.],\n",
       "          [0.],\n",
       "          [0.]],\n",
       " \n",
       "         [[0.],\n",
       "          [0.],\n",
       "          [0.],\n",
       "          ...,\n",
       "          [0.],\n",
       "          [0.],\n",
       "          [0.]]]]))"
      ]
     },
     "metadata": {},
     "execution_count": 11
    }
   ],
   "metadata": {}
  },
  {
   "cell_type": "markdown",
   "source": [
    "## Training the model"
   ],
   "metadata": {}
  },
  {
   "cell_type": "code",
   "execution_count": 27,
   "source": [
    "train_steps = len(train_img)\r\n",
    "test_steps = len(test_img)\r\n",
    "\r\n",
    "\r\n",
    "\r\n",
    "model.fit(x=train_img, y=train_msk, batch_size=BATCH_SIZE , epochs=2, validation_data=v_data)"
   ],
   "outputs": [
    {
     "output_type": "stream",
     "name": "stdout",
     "text": [
      "Epoch 1/2\n",
      "7/7 [==============================] - 119s 17s/step - loss: 0.0020 - acc: 0.7069 - val_loss: 0.0023 - val_acc: 0.7584\n",
      "Epoch 2/2\n",
      "7/7 [==============================] - 111s 16s/step - loss: 0.0019 - acc: 0.7690 - val_loss: 0.0015 - val_acc: 0.7584\n"
     ]
    },
    {
     "output_type": "execute_result",
     "data": {
      "text/plain": [
       "<keras.callbacks.History at 0x2d70497ec40>"
      ]
     },
     "metadata": {},
     "execution_count": 27
    }
   ],
   "metadata": {}
  },
  {
   "cell_type": "code",
   "execution_count": 41,
   "source": [
    "model.save_weights('UNetW1.h5')\r\n",
    "\r\n",
    "result = model.predict(test_img)\r\n",
    "\r\n"
   ],
   "outputs": [],
   "metadata": {}
  },
  {
   "cell_type": "code",
   "execution_count": 61,
   "source": [
    "r = 1\r\n",
    "\r\n",
    "res = (result > 0.25).astype(float)\r\n",
    "print(type(result[r]), np.mean(res[r]))\r\n",
    "\r\n",
    "fig = plt.figure()\r\n",
    "fig.subplots_adjust(hspace=0.4, wspace=0.4)\r\n",
    "ax = fig.add_subplot(1,2,1)\r\n",
    "ax.set_title('Ground Truth')\r\n",
    "ax.imshow(test_msk[r], cmap='gray')\r\n",
    "\r\n",
    "\r\n",
    "ax1 = fig.add_subplot(1,2,2)\r\n",
    "ax1.set_title('Ground Truth')\r\n",
    "ax1.imshow(res[r], cmap='gray')\r\n"
   ],
   "outputs": [
    {
     "output_type": "stream",
     "name": "stdout",
     "text": [
      "<class 'numpy.ndarray'> 0.2703285217285156\n"
     ]
    },
    {
     "output_type": "execute_result",
     "data": {
      "text/plain": [
       "<matplotlib.image.AxesImage at 0x2d723db8b80>"
      ]
     },
     "metadata": {},
     "execution_count": 61
    },
    {
     "output_type": "display_data",
     "data": {
      "text/plain": [
       "<Figure size 432x288 with 2 Axes>"
      ],
      "image/svg+xml": "<?xml version=\"1.0\" encoding=\"utf-8\" standalone=\"no\"?>\r\n<!DOCTYPE svg PUBLIC \"-//W3C//DTD SVG 1.1//EN\"\r\n  \"http://www.w3.org/Graphics/SVG/1.1/DTD/svg11.dtd\">\r\n<svg height=\"185.69625pt\" version=\"1.1\" viewBox=\"0 0 375.2875 185.69625\" width=\"375.2875pt\" xmlns=\"http://www.w3.org/2000/svg\" xmlns:xlink=\"http://www.w3.org/1999/xlink\">\r\n <metadata>\r\n  <rdf:RDF xmlns:cc=\"http://creativecommons.org/ns#\" xmlns:dc=\"http://purl.org/dc/elements/1.1/\" xmlns:rdf=\"http://www.w3.org/1999/02/22-rdf-syntax-ns#\">\r\n   <cc:Work>\r\n    <dc:type rdf:resource=\"http://purl.org/dc/dcmitype/StillImage\"/>\r\n    <dc:date>2021-08-18T11:43:25.502801</dc:date>\r\n    <dc:format>image/svg+xml</dc:format>\r\n    <dc:creator>\r\n     <cc:Agent>\r\n      <dc:title>Matplotlib v3.4.1, https://matplotlib.org/</dc:title>\r\n     </cc:Agent>\r\n    </dc:creator>\r\n   </cc:Work>\r\n  </rdf:RDF>\r\n </metadata>\r\n <defs>\r\n  <style type=\"text/css\">*{stroke-linecap:butt;stroke-linejoin:round;}</style>\r\n </defs>\r\n <g id=\"figure_1\">\r\n  <g id=\"patch_1\">\r\n   <path d=\"M 0 185.69625 \r\nL 375.2875 185.69625 \r\nL 375.2875 0 \r\nL 0 0 \r\nz\r\n\" style=\"fill:none;\"/>\r\n  </g>\r\n  <g id=\"axes_1\">\r\n   <g id=\"patch_2\">\r\n    <path d=\"M 33.2875 161.818125 \r\nL 172.7875 161.818125 \r\nL 172.7875 22.318125 \r\nL 33.2875 22.318125 \r\nz\r\n\" style=\"fill:#ffffff;\"/>\r\n   </g>\r\n   <g clip-path=\"url(#pb031bf85b9)\">\r\n    <image height=\"140\" id=\"imageccd4611ddf\" transform=\"scale(1 -1)translate(0 -140)\" width=\"140\" x=\"33.2875\" xlink:href=\"data:image/png;base64,\r\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\" y=\"-21.818125\"/>\r\n   </g>\r\n   <g id=\"matplotlib.axis_1\">\r\n    <g id=\"xtick_1\">\r\n     <g id=\"line2d_1\">\r\n      <defs>\r\n       <path d=\"M 0 0 \r\nL 0 3.5 \r\n\" id=\"mdf8deeaab5\" style=\"stroke:#000000;stroke-width:0.8;\"/>\r\n      </defs>\r\n      <g>\r\n       <use style=\"stroke:#000000;stroke-width:0.8;\" x=\"33.42373\" xlink:href=\"#mdf8deeaab5\" y=\"161.818125\"/>\r\n      </g>\r\n     </g>\r\n     <g id=\"text_1\">\r\n      <!-- 0 -->\r\n      <g transform=\"translate(30.24248 176.416562)scale(0.1 -0.1)\">\r\n       <defs>\r\n        <path d=\"M 2034 4250 \r\nQ 1547 4250 1301 3770 \r\nQ 1056 3291 1056 2328 \r\nQ 1056 1369 1301 889 \r\nQ 1547 409 2034 409 \r\nQ 2525 409 2770 889 \r\nQ 3016 1369 3016 2328 \r\nQ 3016 3291 2770 3770 \r\nQ 2525 4250 2034 4250 \r\nz\r\nM 2034 4750 \r\nQ 2819 4750 3233 4129 \r\nQ 3647 3509 3647 2328 \r\nQ 3647 1150 3233 529 \r\nQ 2819 -91 2034 -91 \r\nQ 1250 -91 836 529 \r\nQ 422 1150 422 2328 \r\nQ 422 3509 836 4129 \r\nQ 1250 4750 2034 4750 \r\nz\r\n\" id=\"DejaVuSans-30\" transform=\"scale(0.015625)\"/>\r\n       </defs>\r\n       <use xlink:href=\"#DejaVuSans-30\"/>\r\n      </g>\r\n     </g>\r\n    </g>\r\n    <g id=\"xtick_2\">\r\n     <g id=\"line2d_2\">\r\n      <g>\r\n       <use style=\"stroke:#000000;stroke-width:0.8;\" x=\"87.915918\" xlink:href=\"#mdf8deeaab5\" y=\"161.818125\"/>\r\n      </g>\r\n     </g>\r\n     <g id=\"text_2\">\r\n      <!-- 200 -->\r\n      <g transform=\"translate(78.372168 176.416562)scale(0.1 -0.1)\">\r\n       <defs>\r\n        <path d=\"M 1228 531 \r\nL 3431 531 \r\nL 3431 0 \r\nL 469 0 \r\nL 469 531 \r\nQ 828 903 1448 1529 \r\nQ 2069 2156 2228 2338 \r\nQ 2531 2678 2651 2914 \r\nQ 2772 3150 2772 3378 \r\nQ 2772 3750 2511 3984 \r\nQ 2250 4219 1831 4219 \r\nQ 1534 4219 1204 4116 \r\nQ 875 4013 500 3803 \r\nL 500 4441 \r\nQ 881 4594 1212 4672 \r\nQ 1544 4750 1819 4750 \r\nQ 2544 4750 2975 4387 \r\nQ 3406 4025 3406 3419 \r\nQ 3406 3131 3298 2873 \r\nQ 3191 2616 2906 2266 \r\nQ 2828 2175 2409 1742 \r\nQ 1991 1309 1228 531 \r\nz\r\n\" id=\"DejaVuSans-32\" transform=\"scale(0.015625)\"/>\r\n       </defs>\r\n       <use xlink:href=\"#DejaVuSans-32\"/>\r\n       <use x=\"63.623047\" xlink:href=\"#DejaVuSans-30\"/>\r\n       <use x=\"127.246094\" xlink:href=\"#DejaVuSans-30\"/>\r\n      </g>\r\n     </g>\r\n    </g>\r\n    <g id=\"xtick_3\">\r\n     <g id=\"line2d_3\">\r\n      <g>\r\n       <use style=\"stroke:#000000;stroke-width:0.8;\" x=\"142.408105\" xlink:href=\"#mdf8deeaab5\" y=\"161.818125\"/>\r\n      </g>\r\n     </g>\r\n     <g id=\"text_3\">\r\n      <!-- 400 -->\r\n      <g transform=\"translate(132.864355 176.416562)scale(0.1 -0.1)\">\r\n       <defs>\r\n        <path d=\"M 2419 4116 \r\nL 825 1625 \r\nL 2419 1625 \r\nL 2419 4116 \r\nz\r\nM 2253 4666 \r\nL 3047 4666 \r\nL 3047 1625 \r\nL 3713 1625 \r\nL 3713 1100 \r\nL 3047 1100 \r\nL 3047 0 \r\nL 2419 0 \r\nL 2419 1100 \r\nL 313 1100 \r\nL 313 1709 \r\nL 2253 4666 \r\nz\r\n\" id=\"DejaVuSans-34\" transform=\"scale(0.015625)\"/>\r\n       </defs>\r\n       <use xlink:href=\"#DejaVuSans-34\"/>\r\n       <use x=\"63.623047\" xlink:href=\"#DejaVuSans-30\"/>\r\n       <use x=\"127.246094\" xlink:href=\"#DejaVuSans-30\"/>\r\n      </g>\r\n     </g>\r\n    </g>\r\n   </g>\r\n   <g id=\"matplotlib.axis_2\">\r\n    <g id=\"ytick_1\">\r\n     <g id=\"line2d_4\">\r\n      <defs>\r\n       <path d=\"M 0 0 \r\nL -3.5 0 \r\n\" id=\"ma21b900fb5\" style=\"stroke:#000000;stroke-width:0.8;\"/>\r\n      </defs>\r\n      <g>\r\n       <use style=\"stroke:#000000;stroke-width:0.8;\" x=\"33.2875\" xlink:href=\"#ma21b900fb5\" y=\"22.454355\"/>\r\n      </g>\r\n     </g>\r\n     <g id=\"text_4\">\r\n      <!-- 0 -->\r\n      <g transform=\"translate(19.925 26.253574)scale(0.1 -0.1)\">\r\n       <use xlink:href=\"#DejaVuSans-30\"/>\r\n      </g>\r\n     </g>\r\n    </g>\r\n    <g id=\"ytick_2\">\r\n     <g id=\"line2d_5\">\r\n      <g>\r\n       <use style=\"stroke:#000000;stroke-width:0.8;\" x=\"33.2875\" xlink:href=\"#ma21b900fb5\" y=\"49.700449\"/>\r\n      </g>\r\n     </g>\r\n     <g id=\"text_5\">\r\n      <!-- 100 -->\r\n      <g transform=\"translate(7.2 53.499668)scale(0.1 -0.1)\">\r\n       <defs>\r\n        <path d=\"M 794 531 \r\nL 1825 531 \r\nL 1825 4091 \r\nL 703 3866 \r\nL 703 4441 \r\nL 1819 4666 \r\nL 2450 4666 \r\nL 2450 531 \r\nL 3481 531 \r\nL 3481 0 \r\nL 794 0 \r\nL 794 531 \r\nz\r\n\" id=\"DejaVuSans-31\" transform=\"scale(0.015625)\"/>\r\n       </defs>\r\n       <use xlink:href=\"#DejaVuSans-31\"/>\r\n       <use x=\"63.623047\" xlink:href=\"#DejaVuSans-30\"/>\r\n       <use x=\"127.246094\" xlink:href=\"#DejaVuSans-30\"/>\r\n      </g>\r\n     </g>\r\n    </g>\r\n    <g id=\"ytick_3\">\r\n     <g id=\"line2d_6\">\r\n      <g>\r\n       <use style=\"stroke:#000000;stroke-width:0.8;\" x=\"33.2875\" xlink:href=\"#ma21b900fb5\" y=\"76.946543\"/>\r\n      </g>\r\n     </g>\r\n     <g id=\"text_6\">\r\n      <!-- 200 -->\r\n      <g transform=\"translate(7.2 80.745762)scale(0.1 -0.1)\">\r\n       <use xlink:href=\"#DejaVuSans-32\"/>\r\n       <use x=\"63.623047\" xlink:href=\"#DejaVuSans-30\"/>\r\n       <use x=\"127.246094\" xlink:href=\"#DejaVuSans-30\"/>\r\n      </g>\r\n     </g>\r\n    </g>\r\n    <g id=\"ytick_4\">\r\n     <g id=\"line2d_7\">\r\n      <g>\r\n       <use style=\"stroke:#000000;stroke-width:0.8;\" x=\"33.2875\" xlink:href=\"#ma21b900fb5\" y=\"104.192637\"/>\r\n      </g>\r\n     </g>\r\n     <g id=\"text_7\">\r\n      <!-- 300 -->\r\n      <g transform=\"translate(7.2 107.991855)scale(0.1 -0.1)\">\r\n       <defs>\r\n        <path d=\"M 2597 2516 \r\nQ 3050 2419 3304 2112 \r\nQ 3559 1806 3559 1356 \r\nQ 3559 666 3084 287 \r\nQ 2609 -91 1734 -91 \r\nQ 1441 -91 1130 -33 \r\nQ 819 25 488 141 \r\nL 488 750 \r\nQ 750 597 1062 519 \r\nQ 1375 441 1716 441 \r\nQ 2309 441 2620 675 \r\nQ 2931 909 2931 1356 \r\nQ 2931 1769 2642 2001 \r\nQ 2353 2234 1838 2234 \r\nL 1294 2234 \r\nL 1294 2753 \r\nL 1863 2753 \r\nQ 2328 2753 2575 2939 \r\nQ 2822 3125 2822 3475 \r\nQ 2822 3834 2567 4026 \r\nQ 2313 4219 1838 4219 \r\nQ 1578 4219 1281 4162 \r\nQ 984 4106 628 3988 \r\nL 628 4550 \r\nQ 988 4650 1302 4700 \r\nQ 1616 4750 1894 4750 \r\nQ 2613 4750 3031 4423 \r\nQ 3450 4097 3450 3541 \r\nQ 3450 3153 3228 2886 \r\nQ 3006 2619 2597 2516 \r\nz\r\n\" id=\"DejaVuSans-33\" transform=\"scale(0.015625)\"/>\r\n       </defs>\r\n       <use xlink:href=\"#DejaVuSans-33\"/>\r\n       <use x=\"63.623047\" xlink:href=\"#DejaVuSans-30\"/>\r\n       <use x=\"127.246094\" xlink:href=\"#DejaVuSans-30\"/>\r\n      </g>\r\n     </g>\r\n    </g>\r\n    <g id=\"ytick_5\">\r\n     <g id=\"line2d_8\">\r\n      <g>\r\n       <use style=\"stroke:#000000;stroke-width:0.8;\" x=\"33.2875\" xlink:href=\"#ma21b900fb5\" y=\"131.43873\"/>\r\n      </g>\r\n     </g>\r\n     <g id=\"text_8\">\r\n      <!-- 400 -->\r\n      <g transform=\"translate(7.2 135.237949)scale(0.1 -0.1)\">\r\n       <use xlink:href=\"#DejaVuSans-34\"/>\r\n       <use x=\"63.623047\" xlink:href=\"#DejaVuSans-30\"/>\r\n       <use x=\"127.246094\" xlink:href=\"#DejaVuSans-30\"/>\r\n      </g>\r\n     </g>\r\n    </g>\r\n    <g id=\"ytick_6\">\r\n     <g id=\"line2d_9\">\r\n      <g>\r\n       <use style=\"stroke:#000000;stroke-width:0.8;\" x=\"33.2875\" xlink:href=\"#ma21b900fb5\" y=\"158.684824\"/>\r\n      </g>\r\n     </g>\r\n     <g id=\"text_9\">\r\n      <!-- 500 -->\r\n      <g transform=\"translate(7.2 162.484043)scale(0.1 -0.1)\">\r\n       <defs>\r\n        <path d=\"M 691 4666 \r\nL 3169 4666 \r\nL 3169 4134 \r\nL 1269 4134 \r\nL 1269 2991 \r\nQ 1406 3038 1543 3061 \r\nQ 1681 3084 1819 3084 \r\nQ 2600 3084 3056 2656 \r\nQ 3513 2228 3513 1497 \r\nQ 3513 744 3044 326 \r\nQ 2575 -91 1722 -91 \r\nQ 1428 -91 1123 -41 \r\nQ 819 9 494 109 \r\nL 494 744 \r\nQ 775 591 1075 516 \r\nQ 1375 441 1709 441 \r\nQ 2250 441 2565 725 \r\nQ 2881 1009 2881 1497 \r\nQ 2881 1984 2565 2268 \r\nQ 2250 2553 1709 2553 \r\nQ 1456 2553 1204 2497 \r\nQ 953 2441 691 2322 \r\nL 691 4666 \r\nz\r\n\" id=\"DejaVuSans-35\" transform=\"scale(0.015625)\"/>\r\n       </defs>\r\n       <use xlink:href=\"#DejaVuSans-35\"/>\r\n       <use x=\"63.623047\" xlink:href=\"#DejaVuSans-30\"/>\r\n       <use x=\"127.246094\" xlink:href=\"#DejaVuSans-30\"/>\r\n      </g>\r\n     </g>\r\n    </g>\r\n   </g>\r\n   <g id=\"patch_3\">\r\n    <path d=\"M 33.2875 161.818125 \r\nL 33.2875 22.318125 \r\n\" style=\"fill:none;stroke:#000000;stroke-linecap:square;stroke-linejoin:miter;stroke-width:0.8;\"/>\r\n   </g>\r\n   <g id=\"patch_4\">\r\n    <path d=\"M 172.7875 161.818125 \r\nL 172.7875 22.318125 \r\n\" style=\"fill:none;stroke:#000000;stroke-linecap:square;stroke-linejoin:miter;stroke-width:0.8;\"/>\r\n   </g>\r\n   <g id=\"patch_5\">\r\n    <path d=\"M 33.2875 161.818125 \r\nL 172.7875 161.818125 \r\n\" style=\"fill:none;stroke:#000000;stroke-linecap:square;stroke-linejoin:miter;stroke-width:0.8;\"/>\r\n   </g>\r\n   <g id=\"patch_6\">\r\n    <path d=\"M 33.2875 22.318125 \r\nL 172.7875 22.318125 \r\n\" style=\"fill:none;stroke:#000000;stroke-linecap:square;stroke-linejoin:miter;stroke-width:0.8;\"/>\r\n   </g>\r\n   <g id=\"text_10\">\r\n    <!-- Predicted -->\r\n    <g transform=\"translate(74.873125 16.318125)scale(0.12 -0.12)\">\r\n     <defs>\r\n      <path d=\"M 1259 4147 \r\nL 1259 2394 \r\nL 2053 2394 \r\nQ 2494 2394 2734 2622 \r\nQ 2975 2850 2975 3272 \r\nQ 2975 3691 2734 3919 \r\nQ 2494 4147 2053 4147 \r\nL 1259 4147 \r\nz\r\nM 628 4666 \r\nL 2053 4666 \r\nQ 2838 4666 3239 4311 \r\nQ 3641 3956 3641 3272 \r\nQ 3641 2581 3239 2228 \r\nQ 2838 1875 2053 1875 \r\nL 1259 1875 \r\nL 1259 0 \r\nL 628 0 \r\nL 628 4666 \r\nz\r\n\" id=\"DejaVuSans-50\" transform=\"scale(0.015625)\"/>\r\n      <path d=\"M 2631 2963 \r\nQ 2534 3019 2420 3045 \r\nQ 2306 3072 2169 3072 \r\nQ 1681 3072 1420 2755 \r\nQ 1159 2438 1159 1844 \r\nL 1159 0 \r\nL 581 0 \r\nL 581 3500 \r\nL 1159 3500 \r\nL 1159 2956 \r\nQ 1341 3275 1631 3429 \r\nQ 1922 3584 2338 3584 \r\nQ 2397 3584 2469 3576 \r\nQ 2541 3569 2628 3553 \r\nL 2631 2963 \r\nz\r\n\" id=\"DejaVuSans-72\" transform=\"scale(0.015625)\"/>\r\n      <path d=\"M 3597 1894 \r\nL 3597 1613 \r\nL 953 1613 \r\nQ 991 1019 1311 708 \r\nQ 1631 397 2203 397 \r\nQ 2534 397 2845 478 \r\nQ 3156 559 3463 722 \r\nL 3463 178 \r\nQ 3153 47 2828 -22 \r\nQ 2503 -91 2169 -91 \r\nQ 1331 -91 842 396 \r\nQ 353 884 353 1716 \r\nQ 353 2575 817 3079 \r\nQ 1281 3584 2069 3584 \r\nQ 2775 3584 3186 3129 \r\nQ 3597 2675 3597 1894 \r\nz\r\nM 3022 2063 \r\nQ 3016 2534 2758 2815 \r\nQ 2500 3097 2075 3097 \r\nQ 1594 3097 1305 2825 \r\nQ 1016 2553 972 2059 \r\nL 3022 2063 \r\nz\r\n\" id=\"DejaVuSans-65\" transform=\"scale(0.015625)\"/>\r\n      <path d=\"M 2906 2969 \r\nL 2906 4863 \r\nL 3481 4863 \r\nL 3481 0 \r\nL 2906 0 \r\nL 2906 525 \r\nQ 2725 213 2448 61 \r\nQ 2172 -91 1784 -91 \r\nQ 1150 -91 751 415 \r\nQ 353 922 353 1747 \r\nQ 353 2572 751 3078 \r\nQ 1150 3584 1784 3584 \r\nQ 2172 3584 2448 3432 \r\nQ 2725 3281 2906 2969 \r\nz\r\nM 947 1747 \r\nQ 947 1113 1208 752 \r\nQ 1469 391 1925 391 \r\nQ 2381 391 2643 752 \r\nQ 2906 1113 2906 1747 \r\nQ 2906 2381 2643 2742 \r\nQ 2381 3103 1925 3103 \r\nQ 1469 3103 1208 2742 \r\nQ 947 2381 947 1747 \r\nz\r\n\" id=\"DejaVuSans-64\" transform=\"scale(0.015625)\"/>\r\n      <path d=\"M 603 3500 \r\nL 1178 3500 \r\nL 1178 0 \r\nL 603 0 \r\nL 603 3500 \r\nz\r\nM 603 4863 \r\nL 1178 4863 \r\nL 1178 4134 \r\nL 603 4134 \r\nL 603 4863 \r\nz\r\n\" id=\"DejaVuSans-69\" transform=\"scale(0.015625)\"/>\r\n      <path d=\"M 3122 3366 \r\nL 3122 2828 \r\nQ 2878 2963 2633 3030 \r\nQ 2388 3097 2138 3097 \r\nQ 1578 3097 1268 2742 \r\nQ 959 2388 959 1747 \r\nQ 959 1106 1268 751 \r\nQ 1578 397 2138 397 \r\nQ 2388 397 2633 464 \r\nQ 2878 531 3122 666 \r\nL 3122 134 \r\nQ 2881 22 2623 -34 \r\nQ 2366 -91 2075 -91 \r\nQ 1284 -91 818 406 \r\nQ 353 903 353 1747 \r\nQ 353 2603 823 3093 \r\nQ 1294 3584 2113 3584 \r\nQ 2378 3584 2631 3529 \r\nQ 2884 3475 3122 3366 \r\nz\r\n\" id=\"DejaVuSans-63\" transform=\"scale(0.015625)\"/>\r\n      <path d=\"M 1172 4494 \r\nL 1172 3500 \r\nL 2356 3500 \r\nL 2356 3053 \r\nL 1172 3053 \r\nL 1172 1153 \r\nQ 1172 725 1289 603 \r\nQ 1406 481 1766 481 \r\nL 2356 481 \r\nL 2356 0 \r\nL 1766 0 \r\nQ 1100 0 847 248 \r\nQ 594 497 594 1153 \r\nL 594 3053 \r\nL 172 3053 \r\nL 172 3500 \r\nL 594 3500 \r\nL 594 4494 \r\nL 1172 4494 \r\nz\r\n\" id=\"DejaVuSans-74\" transform=\"scale(0.015625)\"/>\r\n     </defs>\r\n     <use xlink:href=\"#DejaVuSans-50\"/>\r\n     <use x=\"58.552734\" xlink:href=\"#DejaVuSans-72\"/>\r\n     <use x=\"97.416016\" xlink:href=\"#DejaVuSans-65\"/>\r\n     <use x=\"158.939453\" xlink:href=\"#DejaVuSans-64\"/>\r\n     <use x=\"222.416016\" xlink:href=\"#DejaVuSans-69\"/>\r\n     <use x=\"250.199219\" xlink:href=\"#DejaVuSans-63\"/>\r\n     <use x=\"305.179688\" xlink:href=\"#DejaVuSans-74\"/>\r\n     <use x=\"344.388672\" xlink:href=\"#DejaVuSans-65\"/>\r\n     <use x=\"405.912109\" xlink:href=\"#DejaVuSans-64\"/>\r\n    </g>\r\n   </g>\r\n  </g>\r\n  <g id=\"axes_2\">\r\n   <g id=\"patch_7\">\r\n    <path d=\"M 228.5875 161.818125 \r\nL 368.0875 161.818125 \r\nL 368.0875 22.318125 \r\nL 228.5875 22.318125 \r\nz\r\n\" style=\"fill:#ffffff;\"/>\r\n   </g>\r\n   <g clip-path=\"url(#ped004b456a)\">\r\n    <image height=\"140\" id=\"image18ec79a7af\" transform=\"scale(1 -1)translate(0 -140)\" width=\"140\" x=\"228.5875\" xlink:href=\"data:image/png;base64,\r\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\" y=\"-21.818125\"/>\r\n   </g>\r\n   <g id=\"matplotlib.axis_3\">\r\n    <g id=\"xtick_4\">\r\n     <g id=\"line2d_10\">\r\n      <g>\r\n       <use style=\"stroke:#000000;stroke-width:0.8;\" x=\"228.72373\" xlink:href=\"#mdf8deeaab5\" y=\"161.818125\"/>\r\n      </g>\r\n     </g>\r\n     <g id=\"text_11\">\r\n      <!-- 0 -->\r\n      <g transform=\"translate(225.54248 176.416562)scale(0.1 -0.1)\">\r\n       <use xlink:href=\"#DejaVuSans-30\"/>\r\n      </g>\r\n     </g>\r\n    </g>\r\n    <g id=\"xtick_5\">\r\n     <g id=\"line2d_11\">\r\n      <g>\r\n       <use style=\"stroke:#000000;stroke-width:0.8;\" x=\"283.215918\" xlink:href=\"#mdf8deeaab5\" y=\"161.818125\"/>\r\n      </g>\r\n     </g>\r\n     <g id=\"text_12\">\r\n      <!-- 200 -->\r\n      <g transform=\"translate(273.672168 176.416562)scale(0.1 -0.1)\">\r\n       <use xlink:href=\"#DejaVuSans-32\"/>\r\n       <use x=\"63.623047\" xlink:href=\"#DejaVuSans-30\"/>\r\n       <use x=\"127.246094\" xlink:href=\"#DejaVuSans-30\"/>\r\n      </g>\r\n     </g>\r\n    </g>\r\n    <g id=\"xtick_6\">\r\n     <g id=\"line2d_12\">\r\n      <g>\r\n       <use style=\"stroke:#000000;stroke-width:0.8;\" x=\"337.708105\" xlink:href=\"#mdf8deeaab5\" y=\"161.818125\"/>\r\n      </g>\r\n     </g>\r\n     <g id=\"text_13\">\r\n      <!-- 400 -->\r\n      <g transform=\"translate(328.164355 176.416562)scale(0.1 -0.1)\">\r\n       <use xlink:href=\"#DejaVuSans-34\"/>\r\n       <use x=\"63.623047\" xlink:href=\"#DejaVuSans-30\"/>\r\n       <use x=\"127.246094\" xlink:href=\"#DejaVuSans-30\"/>\r\n      </g>\r\n     </g>\r\n    </g>\r\n   </g>\r\n   <g id=\"matplotlib.axis_4\">\r\n    <g id=\"ytick_7\">\r\n     <g id=\"line2d_13\">\r\n      <g>\r\n       <use style=\"stroke:#000000;stroke-width:0.8;\" x=\"228.5875\" xlink:href=\"#ma21b900fb5\" y=\"22.454355\"/>\r\n      </g>\r\n     </g>\r\n     <g id=\"text_14\">\r\n      <!-- 0 -->\r\n      <g transform=\"translate(215.225 26.253574)scale(0.1 -0.1)\">\r\n       <use xlink:href=\"#DejaVuSans-30\"/>\r\n      </g>\r\n     </g>\r\n    </g>\r\n    <g id=\"ytick_8\">\r\n     <g id=\"line2d_14\">\r\n      <g>\r\n       <use style=\"stroke:#000000;stroke-width:0.8;\" x=\"228.5875\" xlink:href=\"#ma21b900fb5\" y=\"49.700449\"/>\r\n      </g>\r\n     </g>\r\n     <g id=\"text_15\">\r\n      <!-- 100 -->\r\n      <g transform=\"translate(202.5 53.499668)scale(0.1 -0.1)\">\r\n       <use xlink:href=\"#DejaVuSans-31\"/>\r\n       <use x=\"63.623047\" xlink:href=\"#DejaVuSans-30\"/>\r\n       <use x=\"127.246094\" xlink:href=\"#DejaVuSans-30\"/>\r\n      </g>\r\n     </g>\r\n    </g>\r\n    <g id=\"ytick_9\">\r\n     <g id=\"line2d_15\">\r\n      <g>\r\n       <use style=\"stroke:#000000;stroke-width:0.8;\" x=\"228.5875\" xlink:href=\"#ma21b900fb5\" y=\"76.946543\"/>\r\n      </g>\r\n     </g>\r\n     <g id=\"text_16\">\r\n      <!-- 200 -->\r\n      <g transform=\"translate(202.5 80.745762)scale(0.1 -0.1)\">\r\n       <use xlink:href=\"#DejaVuSans-32\"/>\r\n       <use x=\"63.623047\" xlink:href=\"#DejaVuSans-30\"/>\r\n       <use x=\"127.246094\" xlink:href=\"#DejaVuSans-30\"/>\r\n      </g>\r\n     </g>\r\n    </g>\r\n    <g id=\"ytick_10\">\r\n     <g id=\"line2d_16\">\r\n      <g>\r\n       <use style=\"stroke:#000000;stroke-width:0.8;\" x=\"228.5875\" xlink:href=\"#ma21b900fb5\" y=\"104.192637\"/>\r\n      </g>\r\n     </g>\r\n     <g id=\"text_17\">\r\n      <!-- 300 -->\r\n      <g transform=\"translate(202.5 107.991855)scale(0.1 -0.1)\">\r\n       <use xlink:href=\"#DejaVuSans-33\"/>\r\n       <use x=\"63.623047\" xlink:href=\"#DejaVuSans-30\"/>\r\n       <use x=\"127.246094\" xlink:href=\"#DejaVuSans-30\"/>\r\n      </g>\r\n     </g>\r\n    </g>\r\n    <g id=\"ytick_11\">\r\n     <g id=\"line2d_17\">\r\n      <g>\r\n       <use style=\"stroke:#000000;stroke-width:0.8;\" x=\"228.5875\" xlink:href=\"#ma21b900fb5\" y=\"131.43873\"/>\r\n      </g>\r\n     </g>\r\n     <g id=\"text_18\">\r\n      <!-- 400 -->\r\n      <g transform=\"translate(202.5 135.237949)scale(0.1 -0.1)\">\r\n       <use xlink:href=\"#DejaVuSans-34\"/>\r\n       <use x=\"63.623047\" xlink:href=\"#DejaVuSans-30\"/>\r\n       <use x=\"127.246094\" xlink:href=\"#DejaVuSans-30\"/>\r\n      </g>\r\n     </g>\r\n    </g>\r\n    <g id=\"ytick_12\">\r\n     <g id=\"line2d_18\">\r\n      <g>\r\n       <use style=\"stroke:#000000;stroke-width:0.8;\" x=\"228.5875\" xlink:href=\"#ma21b900fb5\" y=\"158.684824\"/>\r\n      </g>\r\n     </g>\r\n     <g id=\"text_19\">\r\n      <!-- 500 -->\r\n      <g transform=\"translate(202.5 162.484043)scale(0.1 -0.1)\">\r\n       <use xlink:href=\"#DejaVuSans-35\"/>\r\n       <use x=\"63.623047\" xlink:href=\"#DejaVuSans-30\"/>\r\n       <use x=\"127.246094\" xlink:href=\"#DejaVuSans-30\"/>\r\n      </g>\r\n     </g>\r\n    </g>\r\n   </g>\r\n   <g id=\"patch_8\">\r\n    <path d=\"M 228.5875 161.818125 \r\nL 228.5875 22.318125 \r\n\" style=\"fill:none;stroke:#000000;stroke-linecap:square;stroke-linejoin:miter;stroke-width:0.8;\"/>\r\n   </g>\r\n   <g id=\"patch_9\">\r\n    <path d=\"M 368.0875 161.818125 \r\nL 368.0875 22.318125 \r\n\" style=\"fill:none;stroke:#000000;stroke-linecap:square;stroke-linejoin:miter;stroke-width:0.8;\"/>\r\n   </g>\r\n   <g id=\"patch_10\">\r\n    <path d=\"M 228.5875 161.818125 \r\nL 368.0875 161.818125 \r\n\" style=\"fill:none;stroke:#000000;stroke-linecap:square;stroke-linejoin:miter;stroke-width:0.8;\"/>\r\n   </g>\r\n   <g id=\"patch_11\">\r\n    <path d=\"M 228.5875 22.318125 \r\nL 368.0875 22.318125 \r\n\" style=\"fill:none;stroke:#000000;stroke-linecap:square;stroke-linejoin:miter;stroke-width:0.8;\"/>\r\n   </g>\r\n  </g>\r\n </g>\r\n <defs>\r\n  <clipPath id=\"pb031bf85b9\">\r\n   <rect height=\"139.5\" width=\"139.5\" x=\"33.2875\" y=\"22.318125\"/>\r\n  </clipPath>\r\n  <clipPath id=\"ped004b456a\">\r\n   <rect height=\"139.5\" width=\"139.5\" x=\"228.5875\" y=\"22.318125\"/>\r\n  </clipPath>\r\n </defs>\r\n</svg>\r\n",
      "image/png": "[encoded data removed]"
     },
     "metadata": {
      "needs_background": "light"
     }
    }
   ],
   "metadata": {}
  },
  {
   "cell_type": "code",
   "execution_count": 54,
   "source": [],
   "outputs": [
    {
     "output_type": "execute_result",
     "data": {
      "text/plain": [
       "0.13243484497070312"
      ]
     },
     "metadata": {},
     "execution_count": 54
    }
   ],
   "metadata": {}
  },
  {
   "cell_type": "code",
   "execution_count": null,
   "source": [],
   "outputs": [],
   "metadata": {}
  }
 ],
 "metadata": {
  "orig_nbformat": 4,
  "language_info": {
   "name": "python",
   "version": "3.9.1",
   "mimetype": "text/x-python",
   "codemirror_mode": {
    "name": "ipython",
    "version": 3
   },
   "pygments_lexer": "ipython3",
   "nbconvert_exporter": "python",
   "file_extension": ".py"
  },
  "kernelspec": {
   "name": "python3",
   "display_name": "Python 3.9.1 64-bit ('pp-env': conda)"
  },
  "interpreter": {
   "hash": "e9ef6c2000d8d0ad138bad04188b906e0ee46536df715013b3463d7dd29c4f73"
  }
 },
 "nbformat": 4,
 "nbformat_minor": 2
}