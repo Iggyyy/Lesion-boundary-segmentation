{
 "cells": [
  {
   "cell_type": "code",
   "execution_count": 15,
   "source": [
    "import numpy as np\r\n",
    "import tensorflow as tf \r\n",
    "from data_loader import DataLoader"
   ],
   "outputs": [
    {
     "output_type": "stream",
     "name": "stdout",
     "text": [
      "(200, 200, 1)\n"
     ]
    }
   ],
   "metadata": {}
  },
  {
   "cell_type": "code",
   "execution_count": null,
   "source": [
    "def split_train_test(images, masks, validation_split=0.8):\r\n",
    "    split_index = int(images.shape[0] * 0.8)\r\n",
    "    return images[0:split_index], masks[0:split_index], images[split_index:], masks[split_index:]\r\n"
   ],
   "outputs": [],
   "metadata": {}
  }
 ],
 "metadata": {
  "orig_nbformat": 4,
  "language_info": {
   "name": "python",
   "version": "3.9.1",
   "mimetype": "text/x-python",
   "codemirror_mode": {
    "name": "ipython",
    "version": 3
   },
   "pygments_lexer": "ipython3",
   "nbconvert_exporter": "python",
   "file_extension": ".py"
  },
  "kernelspec": {
   "name": "python3",
   "display_name": "Python 3.9.1 64-bit ('pp-env': conda)"
  },
  "interpreter": {
   "hash": "e9ef6c2000d8d0ad138bad04188b906e0ee46536df715013b3463d7dd29c4f73"
  }
 },
 "nbformat": 4,
 "nbformat_minor": 2
}