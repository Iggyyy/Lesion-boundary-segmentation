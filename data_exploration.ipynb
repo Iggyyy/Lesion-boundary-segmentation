{
 "metadata": {
  "language_info": {
   "codemirror_mode": {
    "name": "ipython",
    "version": 3
   },
   "file_extension": ".py",
   "mimetype": "text/x-python",
   "name": "python",
   "nbconvert_exporter": "python",
   "pygments_lexer": "ipython3",
   "version": "3.9.2"
  },
  "orig_nbformat": 4,
  "kernelspec": {
   "name": "python3",
   "display_name": "Python 3.9.2 64-bit ('mlenv': conda)"
  },
  "interpreter": {
   "hash": "7e1c0e6570480865780355f5f6bbe82972ec67b58b9577bc88d0c71d07c96c91"
  }
 },
 "nbformat": 4,
 "nbformat_minor": 2,
 "cells": [
  {
   "cell_type": "code",
   "execution_count": 7,
   "metadata": {},
   "outputs": [],
   "source": [
    "import pandas as pd \n",
    "from PIL import Image\n",
    "import os, sys"
   ]
  },
  {
   "cell_type": "code",
   "execution_count": 5,
   "metadata": {},
   "outputs": [
    {
     "output_type": "stream",
     "name": "stdout",
     "text": [
      "JPEG (1022, 767) RGB\n"
     ]
    }
   ],
   "source": [
    "im = Image.open(\"./data/raw_img/ISIC_0000000.jpg\")\n",
    "print(im.format, im.size, im.mode)\n",
    "im.show()"
   ]
  },
  {
   "cell_type": "code",
   "execution_count": 6,
   "metadata": {},
   "outputs": [],
   "source": [
    "resized = im.resize((512,512))\n",
    "resized.show()"
   ]
  },
  {
   "cell_type": "code",
   "execution_count": 22,
   "metadata": {},
   "outputs": [
    {
     "output_type": "stream",
     "name": "stdout",
     "text": [
      "2594 2594\n"
     ]
    }
   ],
   "source": [
    "image_paths = list(filter(lambda x: \".jpg\" in x ,os.listdir(\"./data/raw_img\")))\n",
    "mask_paths = list(filter(lambda x: \".png\" in x ,os.listdir(\"./data/raw_masks\")))\n",
    "print(len(image_paths), len(mask_paths))"
   ]
  },
  {
   "source": [
    "### Now I will resize ALL the images and masks onto 512x512 format."
   ],
   "cell_type": "markdown",
   "metadata": {}
  },
  {
   "cell_type": "code",
   "execution_count": 27,
   "metadata": {},
   "outputs": [],
   "source": [
    "resized_size = (512,512)\n",
    "img_new_path = \"data/imgs/\"\n",
    "mask_new_path = \"data/masks/\"\n",
    "\n",
    "for i in range(len(image_paths)):\n",
    "    _img = Image.open(f'./data/raw_img/{image_paths[i]}')\n",
    "    _img.resize(resized_size).save(img_new_path + image_paths[i][:-4] + \".png\")\n",
    "\n",
    "    _mask = Image.open(f'./data/raw_masks/{mask_paths[i]}')\n",
    "    _mask.resize(resized_size).save(mask_new_path + mask_paths[i][:-4] + \".png\")\n",
    "\n",
    "    if i%9 == 0:\n",
    "        print(f\"Resized {i+1} pairs\")\n",
    "    "
   ]
  },
  {
   "cell_type": "code",
   "execution_count": 25,
   "metadata": {},
   "outputs": [
    {
     "output_type": "execute_result",
     "data": {
      "text/plain": [
       "[1]"
      ]
     },
     "metadata": {},
     "execution_count": 25
    }
   ],
   "source": [
    "a = [1,2,3,4,5]\n",
    "a[:-4]"
   ]
  },
  {
   "cell_type": "code",
   "execution_count": null,
   "metadata": {},
   "outputs": [],
   "source": []
  }
 ]
}