{
 "metadata": {
  "language_info": {
   "codemirror_mode": {
    "name": "ipython",
    "version": 3
   },
   "file_extension": ".py",
   "mimetype": "text/x-python",
   "name": "python",
   "nbconvert_exporter": "python",
   "pygments_lexer": "ipython3",
   "version": "3.9.1"
  },
  "orig_nbformat": 4,
  "kernelspec": {
   "name": "python3",
   "display_name": "Python 3.9.1 64-bit ('pp-env': conda)"
  },
  "interpreter": {
   "hash": "e9ef6c2000d8d0ad138bad04188b906e0ee46536df715013b3463d7dd29c4f73"
  }
 },
 "nbformat": 4,
 "nbformat_minor": 2,
 "cells": [
  {
   "cell_type": "code",
   "execution_count": null,
   "source": [
    "from PIL import Image, ImageFilter, ImageOps, ImageDraw, ImageStat\r\n",
    "from preprocessor import Preprocessor\r\n",
    "import numpy as np\r\n",
    "\r\n",
    "img = Image.open(f'./data_preview/raw_img/ISIC_0000011.jpg')\r\n",
    "prep_img = Preprocessor(img)\r\n",
    "img"
   ],
   "outputs": [],
   "metadata": {}
  },
  {
   "cell_type": "markdown",
   "source": [
    "## 1. Reduce dimensions, convert to grayscale"
   ],
   "metadata": {}
  },
  {
   "cell_type": "code",
   "execution_count": null,
   "source": [
    "prep_img.convert_to_grayscale()\r\n",
    "prep_img.img.mode"
   ],
   "outputs": [],
   "metadata": {}
  },
  {
   "cell_type": "markdown",
   "source": [
    "## 2. Contrast enchancement"
   ],
   "metadata": {}
  },
  {
   "cell_type": "code",
   "execution_count": null,
   "source": [
    "prep_img.enchance_contrast()\r\n",
    "prep_img.img"
   ],
   "outputs": [],
   "metadata": {}
  },
  {
   "cell_type": "markdown",
   "source": [
    "## 3. Hair removal"
   ],
   "metadata": {}
  },
  {
   "cell_type": "code",
   "execution_count": null,
   "source": [
    "# im_edges = prep_img.img.filter(ImageFilter.FIND_EDGES)\r\n",
    "# blurred = prep_img.img.filter(ImageFilter.GaussianBlur(radius=5))\r\n",
    "# prep_img.img.paste(blurred, mask=im_edges)\r\n",
    "# prep_img.img\r\n",
    "# mask = im_edges.copy()\r\n",
    "# #mask = mask.point(lambda x: x > np.average(mask)*5 and 255)\r\n",
    "# prep_img.img.paste(im=im_edges, box=(0,0), mask=mask)\r\n",
    "# mask"
   ],
   "outputs": [],
   "metadata": {}
  },
  {
   "cell_type": "markdown",
   "source": [
    "## 4. Vignette effect removal"
   ],
   "metadata": {}
  },
  {
   "cell_type": "code",
   "execution_count": null,
   "source": [
    "prep_img.remove_vignette()\r\n",
    "prep_img.img"
   ],
   "outputs": [],
   "metadata": {}
  },
  {
   "cell_type": "markdown",
   "source": [
    " ## 5. Resize"
   ],
   "metadata": {}
  },
  {
   "cell_type": "code",
   "execution_count": null,
   "source": [
    "prep_img.resize()\r\n",
    "prep_img.img.size"
   ],
   "outputs": [],
   "metadata": {}
  },
  {
   "cell_type": "markdown",
   "source": [
    "## 6. Add border"
   ],
   "metadata": {}
  },
  {
   "cell_type": "code",
   "execution_count": null,
   "source": [
    "prep_img.add_border()"
   ],
   "outputs": [],
   "metadata": {}
  },
  {
   "cell_type": "markdown",
   "source": [
    "## Overview and save"
   ],
   "metadata": {}
  },
  {
   "cell_type": "code",
   "execution_count": null,
   "source": [
    "prep_img.save(\"test_autopreproc.png\", path='./src/data_preview/temp/')\r\n",
    "prep_img.img"
   ],
   "outputs": [],
   "metadata": {}
  },
  {
   "cell_type": "markdown",
   "source": [
    "## Leftovers"
   ],
   "metadata": {}
  },
  {
   "cell_type": "code",
   "execution_count": null,
   "source": [
    "source_image = prep_img.img.copy()\r\n",
    "#source_image = source_image.crop(box= (20,20, 492, 492) )\r\n",
    "\r\n",
    "height = source_image.size[0]\r\n",
    "width = source_image.size[1]\r\n",
    "center = (width/2, height/2)\r\n",
    "\r\n",
    "for iteration in range(10):\r\n",
    "    print(f\"Iteration: {iteration}\")\r\n",
    "    radius = height / 3 - 20 + iteration * 30\r\n",
    "\r\n",
    "    #Create circular mask\r\n",
    "    Y, X = np.ogrid[:width, :height]\r\n",
    "    dist_from_center = np.sqrt((X - center[1])**2 + (Y-center[0])**2)\r\n",
    "    arr_mask = (dist_from_center <= radius)*255\r\n",
    "    \r\n",
    "    #Apply mask to source image \r\n",
    "    im_mask = Image.fromarray(arr_mask).convert('L')\r\n",
    "    masked_img = Image.composite(source_image, im_mask, mask=im_mask)\r\n",
    "    masked_img.show()\r\n",
    "    #Get mean pixel values of inner and outer circle\r\n",
    "    mean_inner = ImageStat.Stat(source_image, mask=im_mask).mean[0]\r\n",
    "    mean_outer = ImageStat.Stat(source_image, mask=ImageOps.invert(im_mask)).mean[0]\r\n",
    "    print(f'inner: {mean_inner} \\nouter:{mean_outer}\\n-------')\r\n",
    "\r\n",
    "    #Check if vignette effect is in the image\r\n",
    "    if mean_outer < 25.0:\r\n",
    "        inner_fill = np.full((width, height), int(mean_inner))\r\n",
    "        inner_fill = Image.fromarray(inner_fill).convert('L')\r\n",
    "\r\n",
    "        corrected_img = Image.composite(source_image, inner_fill,mask=im_mask)\r\n",
    "        source_image.paste(corrected_img)\r\n",
    "        break \r\n",
    "\r\n",
    "source_image\r\n"
   ],
   "outputs": [],
   "metadata": {}
  },
  {
   "cell_type": "code",
   "execution_count": null,
   "source": [],
   "outputs": [],
   "metadata": {}
  }
 ]
}